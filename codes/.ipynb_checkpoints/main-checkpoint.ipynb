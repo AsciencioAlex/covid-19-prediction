{
 "cells": [
  {
   "cell_type": "code",
   "execution_count": 1,
   "metadata": {
    "colab": {
     "base_uri": "https://localhost:8080/",
     "height": 34
    },
    "colab_type": "code",
    "id": "Zg41tyStjIBj",
    "outputId": "1d8628ab-ad44-41f9-fdf3-ba80ee21cffc"
   },
   "outputs": [
    {
     "name": "stdout",
     "output_type": "stream",
     "text": [
      "unzip files!\n"
     ]
    },
    {
     "name": "stderr",
     "output_type": "stream",
     "text": [
      "'unzip' is not recognized as an internal or external command,\n",
      "operable program or batch file.\n"
     ]
    }
   ],
   "source": [
    "# unzip dataset files from google drive to content folder in colab\n",
    "\n",
    "import os\n",
    "\n",
    "if os.path.exists(\"/content/covid19-data/\")==False:\n",
    "  print(\"unzip files!\")\n",
    "  !unzip -q \"/content/covid19-data.zip\"\n"
   ]
  },
  {
   "cell_type": "markdown",
   "metadata": {
    "colab_type": "text",
    "id": "u_O6dsNy0mRK"
   },
   "source": [
    "# Import some libraries"
   ]
  },
  {
   "cell_type": "code",
   "execution_count": 2,
   "metadata": {
    "colab": {
     "base_uri": "https://localhost:8080/",
     "height": 71
    },
    "colab_type": "code",
    "id": "k1wZdutRTRg_",
    "outputId": "6ea7108b-9524-4be2-fb53-30af8f488a6b"
   },
   "outputs": [
    {
     "data": {
      "text/html": [
       "        <script type=\"text/javascript\">\n",
       "        window.PlotlyConfig = {MathJaxConfig: 'local'};\n",
       "        if (window.MathJax) {MathJax.Hub.Config({SVG: {font: \"STIX-Web\"}});}\n",
       "        if (typeof require !== 'undefined') {\n",
       "        require.undef(\"plotly\");\n",
       "        requirejs.config({\n",
       "            paths: {\n",
       "                'plotly': ['https://cdn.plot.ly/plotly-2.6.3.min']\n",
       "            }\n",
       "        });\n",
       "        require(['plotly'], function(Plotly) {\n",
       "            window._Plotly = Plotly;\n",
       "        });\n",
       "        }\n",
       "        </script>\n",
       "        "
      ]
     },
     "metadata": {},
     "output_type": "display_data"
    },
    {
     "ename": "ModuleNotFoundError",
     "evalue": "No module named 'tensorflow'",
     "output_type": "error",
     "traceback": [
      "\u001b[1;31m---------------------------------------------------------------------------\u001b[0m",
      "\u001b[1;31mModuleNotFoundError\u001b[0m                       Traceback (most recent call last)",
      "\u001b[1;32mC:\\Users\\CODENE~1\\AppData\\Local\\Temp/ipykernel_3508/52719161.py\u001b[0m in \u001b[0;36m<module>\u001b[1;34m\u001b[0m\n\u001b[0;32m     46\u001b[0m \u001b[1;31m#from fbprophet.plot import plot_plotly, add_changepoints_to_plot\u001b[0m\u001b[1;33m\u001b[0m\u001b[1;33m\u001b[0m\u001b[0m\n\u001b[0;32m     47\u001b[0m \u001b[1;32mfrom\u001b[0m \u001b[0msklearn\u001b[0m\u001b[1;33m.\u001b[0m\u001b[0mpreprocessing\u001b[0m \u001b[1;32mimport\u001b[0m \u001b[0mMinMaxScaler\u001b[0m\u001b[1;33m\u001b[0m\u001b[1;33m\u001b[0m\u001b[0m\n\u001b[1;32m---> 48\u001b[1;33m \u001b[1;32mimport\u001b[0m \u001b[0mtensorflow\u001b[0m \u001b[1;32mas\u001b[0m \u001b[0mtf\u001b[0m\u001b[1;33m\u001b[0m\u001b[1;33m\u001b[0m\u001b[0m\n\u001b[0m\u001b[0;32m     49\u001b[0m \u001b[1;32mfrom\u001b[0m \u001b[0mtensorflow\u001b[0m \u001b[1;32mimport\u001b[0m \u001b[0mkeras\u001b[0m\u001b[1;33m\u001b[0m\u001b[1;33m\u001b[0m\u001b[0m\n\u001b[0;32m     50\u001b[0m \u001b[1;33m\u001b[0m\u001b[0m\n",
      "\u001b[1;31mModuleNotFoundError\u001b[0m: No module named 'tensorflow'"
     ]
    }
   ],
   "source": [
    "# for dataset handeling and calculations\n",
    "import numpy as np \n",
    "import pandas as pd \n",
    "\n",
    "# for basic visualizations\n",
    "import matplotlib.pyplot as plt\n",
    "import matplotlib.colors as mcolors\n",
    "import matplotlib.dates as mdates\n",
    "%matplotlib inline \n",
    "\n",
    "# for advanced visualizations\n",
    "import seaborn as sns\n",
    "\n",
    "# for interactive visualizations\n",
    "import plotly.express as px\n",
    "import plotly.graph_objs as go\n",
    "from plotly.subplots import make_subplots\n",
    "\n",
    "# for offline ploting \n",
    "from plotly.offline import plot, iplot, init_notebook_mode\n",
    "init_notebook_mode(connected=True)\n",
    "\n",
    "# to hide warnings\n",
    "import warnings\n",
    "warnings.filterwarnings('ignore')\n",
    "\n",
    "# for date and time operations\n",
    "from datetime import datetime,timedelta\n",
    "\n",
    "# for file and folder operations\n",
    "import os\n",
    "\n",
    "# for modelling\n",
    "from sklearn.linear_model import LinearRegression\n",
    "from sklearn.model_selection import RandomizedSearchCV, train_test_split\n",
    "from sklearn.preprocessing import PolynomialFeatures\n",
    "from sklearn.tree import DecisionTreeRegressor\n",
    "from sklearn.svm import SVR\n",
    "from sklearn.ensemble import RandomForestRegressor\n",
    "from sklearn.ensemble import AdaBoostRegressor\n",
    "from xgboost import XGBRegressor\n",
    "from sklearn.metrics import mean_squared_error, mean_absolute_error\n",
    "from sklearn.preprocessing import OrdinalEncoder\n",
    "from statsmodels.tsa.arima_model import ARIMA\n",
    "#from fbprophet import Prophet\n",
    "#from fbprophet.plot import plot_plotly, add_changepoints_to_plot\n",
    "from sklearn.preprocessing import MinMaxScaler\n",
    "import tensorflow as tf\n",
    "from tensorflow import keras\n",
    "\n",
    "np.random.seed(42)\n",
    "tf.random.set_seed(42)"
   ]
  },
  {
   "cell_type": "markdown",
   "metadata": {
    "colab_type": "text",
    "id": "zX5mK6_snzYi"
   },
   "source": [
    "# Path to the files directory"
   ]
  },
  {
   "cell_type": "code",
   "execution_count": null,
   "metadata": {
    "colab": {
     "base_uri": "https://localhost:8080/",
     "height": 34
    },
    "colab_type": "code",
    "id": "sCbzx8Bsnkad",
    "outputId": "471e3daf-84bd-4d4d-dc98-05ad007b5e96"
   },
   "outputs": [],
   "source": [
    "path = \"/content/covid19-data\"\n",
    "\n",
    "# path to the directory\n",
    "os.chdir(mypath)\n",
    "\n",
    "print(os.getcwd())"
   ]
  },
  {
   "cell_type": "markdown",
   "metadata": {
    "colab_type": "text",
    "id": "_lE32TZ8TRhC"
   },
   "source": [
    "# Read datasets"
   ]
  },
  {
   "cell_type": "code",
   "execution_count": null,
   "metadata": {
    "colab": {},
    "colab_type": "code",
    "id": "38ciuZEhnzYv"
   },
   "outputs": [],
   "source": [
    "c_d_country=pd.read_csv('covid19_date_country.csv')\n",
    "i_df=pd.read_csv('covid19_iran.csv')\n",
    "c_country_l=pd.read_csv('covid19_country_latest.csv')\n",
    "c_world=pd.read_csv('covid19_world.csv')"
   ]
  },
  {
   "cell_type": "code",
   "execution_count": null,
   "metadata": {
    "colab": {},
    "colab_type": "code",
    "id": "XFYDWtvRtIQ0"
   },
   "outputs": [],
   "source": [
    "# convert dates to proper date formats\n",
    "\n",
    "c_d_country['Date'] = pd.to_datetime(c_d_country['Date'])\n",
    "\n",
    "i_df['Date'] = pd.to_datetime(iran_df['Date'])\n",
    "\n",
    "c_world['Date'] = pd.to_datetime(c_world['Date'])"
   ]
  },
  {
   "cell_type": "markdown",
   "metadata": {
    "colab_type": "text",
    "id": "oPzjmS2Mnza7"
   },
   "source": [
    "# Using time series for Data modeling and prediction  "
   ]
  },
  {
   "cell_type": "markdown",
   "metadata": {
    "colab_type": "text",
    "id": "8mOq9q9ynza8"
   },
   "source": [
    "## total confirmed cases of the world - Prediction"
   ]
  },
  {
   "cell_type": "code",
   "execution_count": null,
   "metadata": {
    "colab": {
     "base_uri": "https://localhost:8080/",
     "height": 34
    },
    "colab_type": "code",
    "id": "4X3besh7nza8",
    "outputId": "a2cf6a0b-ef33-4f84-bde3-d475b4376c3d"
   },
   "outputs": [],
   "source": [
    "# finding numbers related to dates\n",
    "num_dates = c_world.index.values.reshape(-1, 1)\n",
    "\n",
    "# number of days in future considered to forecasting\n",
    "future_days = 10\n",
    "\n",
    "# find numbers related to days from start to future\n",
    "num_start_to_futures = np.array([i for i in range(covid19_world.shape[0]+future_days)]).reshape(-1, 1)\n",
    "\n",
    "# first date in the dataset\n",
    "f_date = c_world['Date'].tolist()[0]\n",
    "\n",
    "# find dates related to days from start to future for better visualization\n",
    "dates_start_to_futures = pd.Series([(first_date + timedelta(days=i)) for i in range(len(numbers_start_to_futures))])\n",
    "print(dates_start_to_futures.shape)"
   ]
  },
  {
   "cell_type": "code",
   "execution_count": null,
   "metadata": {
    "colab": {
     "base_uri": "https://localhost:8080/",
     "height": 85
    },
    "colab_type": "code",
    "id": "Bxgl6LionzbB",
    "outputId": "c276f723-2509-4bbd-f8d0-736025803e65"
   },
   "outputs": [],
   "source": [
    "#Splitting the dataset related to confirmed cases of the world into training and test sets\n",
    "\n",
    "X_train_confirmed, X_test_confirmed, y_train_confirmed, y_test_confirmed = train_test_split(numbers_of_dates[50:],\n",
    "                                                                                c_world['Confirmed'][50:].values,\n",
    "                                                                                test_size = 0.2, shuffle=False)\n",
    "\n",
    "print(X_train_confirmed.shape)\n",
    "print(y_train_confirmed.shape)\n",
    "print(X_test_confirmed.shape)\n",
    "print(y_test_confirmed.shape)"
   ]
  },
  {
   "cell_type": "markdown",
   "metadata": {
    "colab_type": "text",
    "id": "fQUFYP1TnzbH"
   },
   "source": [
    "### Support vector machine regressor"
   ]
  },
  {
   "cell_type": "code",
   "execution_count": null,
   "metadata": {
    "_kg_hide-input": true,
    "_kg_hide-output": true,
    "colab": {
     "base_uri": "https://localhost:8080/",
     "height": 327
    },
    "colab_type": "code",
    "id": "RFtvgEtQnzbH",
    "outputId": "e0c80a21-076f-478b-b79b-485dffc45242"
   },
   "outputs": [],
   "source": [
    "svm_reg = SVR(C=0.1,kernel='poly',gamma=0.01, epsilon=1)\n",
    "svm_reg.fit(X_train_confirmed, y_train_confirmed)\n",
    "\n",
    "svm_pred = svm_reg.predict(num_start_to_futures[50:].reshape(-1,1))\n",
    "\n",
    "y_pred = svm_reg.predict(X_test_confirmed)\n",
    "\n",
    "plt.plot(y_test_confirmed)\n",
    "plt.plot(y_pred)\n",
    "plt.legend(['Test Data', 'SVM Predictions'])\n",
    "\n",
    "mae=mean_absolute_error(y_pred, y_test_confirmed)\n",
    "mse=mean_squared_error(y_pred, y_test_confirmed)\n",
    "rmse = np.sqrt(mse)\n",
    "print(\"RMSE of \", svm_reg.__class__.__name__, round(rmse,2))\n",
    "print(\"MAE of \", svm_reg.__class__.__name__, round(mae,2), '\\n')"
   ]
  },
  {
   "cell_type": "code",
   "execution_count": null,
   "metadata": {
    "colab": {
     "base_uri": "https://localhost:8080/",
     "height": 577
    },
    "colab_type": "code",
    "id": "k_GKEZrunzbO",
    "outputId": "41eda323-a6f2-4db5-8c3e-3f10a89d355a"
   },
   "outputs": [],
   "source": [
    "dates = dates_start_to_futures[50:-10]\n",
    "\n",
    "world_df=c_world.iloc[50:,:] \n",
    "\n",
    "plt.figure(figsize= (12,8))\n",
    "plt.xticks(rotation = 60 ,fontsize = 11)\n",
    "plt.yticks(fontsize = 10)\n",
    "plt.xlabel(\"Dates\",fontsize = 20)\n",
    "plt.ylabel('World-Total confirmed cases',fontsize = 20)\n",
    "plt.title(\"Predicted values of confirmed cases with SVM\" , fontsize = 18)\n",
    "\n",
    "plt.plot_date(y= world_df['Confirmed'].values, x= dates, label = 'Confirmed',alpha=0.5,linestyle ='-',color = 'cyan')\n",
    "plt.plot_date(y= svm_pred,x= dates_start_to_futures[50:],label = 'Forecast',alpha=0.4,linestyle ='-',color = 'orange')\n",
    "plt.legend()"
   ]
  },
  {
   "cell_type": "markdown",
   "metadata": {
    "colab_type": "text",
    "id": "iUsNpvUInzbS"
   },
   "source": [
    "### Linear regression"
   ]
  },
  {
   "cell_type": "code",
   "execution_count": null,
   "metadata": {
    "colab": {
     "base_uri": "https://localhost:8080/",
     "height": 361
    },
    "colab_type": "code",
    "id": "C1624CXrnzbS",
    "outputId": "b34835ed-37e1-4407-be70-8a3333049f35"
   },
   "outputs": [],
   "source": [
    "# transform the training data\n",
    "\n",
    "poly_features=PolynomialFeatures(degree=4)\n",
    "\n",
    "poly_X_train_confirmed = poly_features.fit_transform(X_train_confirmed)\n",
    "poly_X_test_confirmed = poly_features.fit_transform(X_test_confirmed)\n",
    "poly_future_forecast = poly_features.fit_transform(numbers_start_to_futures[50:])\n",
    "\n",
    "# fit a Linear Regression model\n",
    "lin_reg=LinearRegression(normalize=True, fit_intercept=False)\n",
    "\n",
    "lin_reg.fit(poly_X_train_confirmed,y_train_confirmed)\n",
    "coef=lin_reg.coef_\n",
    "print(\"coef: \", coef)\n",
    "\n",
    "y_pred = lin_reg.predict(poly_X_test_confirmed)\n",
    "\n",
    "poly_pred = lin_reg.predict(poly_future_forecast)\n",
    "\n",
    "plt.plot(y_test_confirmed)\n",
    "plt.plot(y_pred)\n",
    "plt.legend(['Test Data', 'Polynomial Regression Predictions'])\n",
    "\n",
    "mae=mean_absolute_error(y_pred, y_test_confirmed)\n",
    "mse=mean_squared_error(y_pred, y_test_confirmed)\n",
    "rmse = np.sqrt(mse)\n",
    "print(\"RMSE of \", lin_reg.__class__.__name__, round(rmse,2))\n",
    "print(\"MAE of \", lin_reg.__class__.__name__, round(mae,2), '\\n')"
   ]
  },
  {
   "cell_type": "code",
   "execution_count": null,
   "metadata": {
    "colab": {
     "base_uri": "https://localhost:8080/",
     "height": 577
    },
    "colab_type": "code",
    "id": "uPaEkmrGnzbY",
    "outputId": "8fa7a5c8-2223-4c56-c82f-45997468fcd4"
   },
   "outputs": [],
   "source": [
    "dates = dates_start_to_futures[50:-10]\n",
    "\n",
    "world_df=c_world.iloc[50:,:] \n",
    "\n",
    "plt.figure(figsize= (12,8))\n",
    "plt.xticks(rotation = 60 ,fontsize = 11)\n",
    "plt.yticks(fontsize = 10)\n",
    "plt.xlabel(\"Dates\",fontsize = 20)\n",
    "plt.ylabel('World-Total confirmed cases',fontsize = 20)\n",
    "plt.title(\"Predicted values of confirmed cases with polynomial regression\" , fontsize = 18)\n",
    "\n",
    "plt.plot_date(y= world_df['Confirmed'].values, x= dates, label = 'Confirmed',alpha=0.5,linestyle ='-',color = 'cyan')\n",
    "plt.plot_date(y= poly_pred,x= dates_start_to_futures[50:],label = 'forecast',alpha=0.4,linestyle ='-',color = 'orange')\n",
    "plt.legend()"
   ]
  },
  {
   "cell_type": "markdown",
   "metadata": {
    "colab_type": "text",
    "id": "s7mo7fJhiiJJ"
   },
   "source": [
    "### Random Forests Regressor"
   ]
  },
  {
   "cell_type": "code",
   "execution_count": null,
   "metadata": {
    "colab": {
     "base_uri": "https://localhost:8080/",
     "height": 327
    },
    "colab_type": "code",
    "id": "040NaH99iiIj",
    "outputId": "1f4bcf89-8616-4735-85c9-241becf14497"
   },
   "outputs": [],
   "source": [
    "rf_reg = RandomForestRegressor(max_depth=7,n_estimators=5000, random_state=42)\n",
    "\n",
    "rf_reg.fit(X_train_confirmed, y_train_confirmed)\n",
    "\n",
    "rf_pred = rf_reg.predict(num_start_to_futures[50:].reshape(-1,1))\n",
    "\n",
    "y_pred = rf_reg.predict(X_test_confirmed)\n",
    "\n",
    "plt.plot(y_test_confirmed)\n",
    "plt.plot(y_pred)\n",
    "plt.legend(['Test Data', 'Random Forests Predictions'])\n",
    "\n",
    "mae=mean_absolute_error(y_pred, y_test_confirmed)\n",
    "mse=mean_squared_error(y_pred, y_test_confirmed)\n",
    "rmse = np.sqrt(mse)\n",
    "print(\"RMSE of \", rf_reg.__class__.__name__, round(rmse,2))\n",
    "print(\"MAE of \", rf_reg.__class__.__name__, round(mae,2), '\\n')"
   ]
  },
  {
   "cell_type": "code",
   "execution_count": null,
   "metadata": {
    "colab": {
     "base_uri": "https://localhost:8080/",
     "height": 136
    },
    "colab_type": "code",
    "id": "AfqDMZz33RFo",
    "outputId": "7c0ceafc-a9e3-4986-a7c0-519213e09824"
   },
   "outputs": [],
   "source": [
    "y_pred"
   ]
  },
  {
   "cell_type": "code",
   "execution_count": null,
   "metadata": {
    "colab": {
     "base_uri": "https://localhost:8080/",
     "height": 102
    },
    "colab_type": "code",
    "id": "j7Sd6VBg3YkA",
    "outputId": "ea3830ea-c233-42d6-96b7-d215443c05a1"
   },
   "outputs": [],
   "source": [
    "y_test_confirmed"
   ]
  },
  {
   "cell_type": "code",
   "execution_count": null,
   "metadata": {
    "colab": {
     "base_uri": "https://localhost:8080/",
     "height": 577
    },
    "colab_type": "code",
    "id": "njm0ZnvVnzbh",
    "outputId": "66aeaf65-2fd7-4272-f99e-5187047bfe12"
   },
   "outputs": [],
   "source": [
    "dates = dates_start_to_futures[50:-10]\n",
    "\n",
    "world_df=c_world.iloc[50:,:] \n",
    "\n",
    "plt.figure(figsize= (12,8))\n",
    "plt.xticks(rotation = 60 ,fontsize = 11)\n",
    "plt.yticks(fontsize = 10)\n",
    "plt.xlabel(\"Dates\",fontsize = 20)\n",
    "plt.ylabel('World-Total confirmed cases',fontsize = 20)\n",
    "plt.title(\"Predicted values of confirmed cases with Random forests\" , fontsize = 18)\n",
    "\n",
    "plt.plot_date(y= world_df['Confirmed'].values, x= dates, label = 'Confirmed',alpha=0.5,linestyle ='-',color = 'cyan')\n",
    "plt.plot_date(y= rf_pred,x= dates_start_to_futures[50:],label = 'forecast',alpha=0.4,linestyle ='-',color = 'orange')\n",
    "plt.legend()"
   ]
  },
  {
   "cell_type": "markdown",
   "metadata": {
    "colab_type": "text",
    "id": "tVk0PYcznzbk"
   },
   "source": [
    "### XGBoost Regressor"
   ]
  },
  {
   "cell_type": "code",
   "execution_count": null,
   "metadata": {
    "colab": {
     "base_uri": "https://localhost:8080/",
     "height": 173
    },
    "colab_type": "code",
    "id": "S0nOrKhVnzbl",
    "outputId": "5853b1b3-9691-4eaa-ad71-5e49319fb114"
   },
   "outputs": [],
   "source": [
    "xgb_reg=XGBRegressor(n_estimators=1000, learning_rate=0.05, n_jobs=4)\n",
    "xgb_reg.fit(X_train_confirmed, y_train_confirmed, early_stopping_rounds=10,\n",
    "            eval_set=[(X_test_confirmed, y_test_confirmed)],verbose=0)"
   ]
  },
  {
   "cell_type": "code",
   "execution_count": null,
   "metadata": {
    "colab": {
     "base_uri": "https://localhost:8080/",
     "height": 327
    },
    "colab_type": "code",
    "id": "pU5WhpErnzbo",
    "outputId": "cf79bb66-c1de-425d-9564-b75d98d02430"
   },
   "outputs": [],
   "source": [
    "xgb_reg=XGBRegressor(base_score=0.5, booster='gbtree', colsample_bylevel=1,\n",
    "             colsample_bynode=1, colsample_bytree=1, gamma=0,\n",
    "             importance_type='gain', interaction_constraints='',\n",
    "             learning_rate=0.05, max_delta_step=0, max_depth=6,\n",
    "             min_child_weight=1,\n",
    "             n_estimators=1000, n_jobs=4, num_parallel_tree=1,\n",
    "             objective='reg:squarederror', random_state=0, reg_alpha=0,\n",
    "             reg_lambda=1, scale_pos_weight=1, subsample=1, tree_method='exact',\n",
    "             validate_parameters=1, verbosity=0)\n",
    "\n",
    "xgb_reg.fit(X_train_confirmed, y_train_confirmed)\n",
    "\n",
    "xgb_pred = xgb_reg.predict(num_start_to_futures[50:])\n",
    "\n",
    "y_pred = xgb_reg.predict(X_test_confirmed)\n",
    "\n",
    "plt.plot(y_test_confirmed)\n",
    "plt.plot(y_pred)\n",
    "plt.legend(['Test Data', 'XGBoost Predictions'])\n",
    "\n",
    "mae=mean_absolute_error(y_pred, y_test_confirmed)\n",
    "mse=mean_squared_error(y_pred, y_test_confirmed)\n",
    "rmse = np.sqrt(mse)\n",
    "print(\"RMSE of \", xgb_reg.__class__.__name__, round(rmse,2))\n",
    "print(\"MAE of \", xgb_reg.__class__.__name__, round(mae,2), '\\n')"
   ]
  },
  {
   "cell_type": "code",
   "execution_count": null,
   "metadata": {
    "colab": {
     "base_uri": "https://localhost:8080/",
     "height": 577
    },
    "colab_type": "code",
    "id": "62Dg0PbKnzbt",
    "outputId": "c3808ee6-4d75-4d00-e0c3-80fb7f7841d8"
   },
   "outputs": [],
   "source": [
    "dates = dates_start_to_futures[50:-10]\n",
    "\n",
    "world_df=c_world.iloc[50:,:] \n",
    "\n",
    "plt.figure(figsize= (12,8))\n",
    "plt.xticks(rotation = 60 ,fontsize = 11)\n",
    "plt.yticks(fontsize = 10)\n",
    "plt.xlabel(\"Dates\",fontsize = 20)\n",
    "plt.ylabel('World-Total confirmed cases',fontsize = 20)\n",
    "plt.title(\"Predicted values of confirmed cases with XGBoost\" , fontsize = 18)\n",
    "\n",
    "plt.plot_date(y= world_df['Confirmed'].values, x= dates, label = 'Confirmed',alpha=0.5,linestyle ='-',color = 'cyan')\n",
    "plt.plot_date(y= xgb_pred,x= dates_start_to_futures[50:],label = 'forecast',alpha=0.4,linestyle ='-',color = 'orange')\n",
    "plt.legend()"
   ]
  },
  {
   "cell_type": "markdown",
   "metadata": {
    "_cell_guid": "a8581bf8-08ed-4a07-a9f0-851e71fc663f",
    "_uuid": "79553508-9b3d-48c2-a996-1e4e63347734",
    "colab_type": "text",
    "id": "dEZzpeKxnzbx"
   },
   "source": [
    "### ARIMA for prediction"
   ]
  },
  {
   "cell_type": "code",
   "execution_count": null,
   "metadata": {
    "colab": {
     "base_uri": "https://localhost:8080/",
     "height": 527
    },
    "colab_type": "code",
    "id": "E8jFqvfenzby",
    "outputId": "63e07591-907f-4dec-efd2-b98c9b5e599a"
   },
   "outputs": [],
   "source": [
    "data = pd.DataFrame(columns = ['Date','y'])\n",
    "data['Date'] = c_world['Date'][50:]\n",
    "data['y'] = c_world['Confirmed'][50:].values\n",
    "\n",
    "arima = ARIMA(data['y'], order=(5, 1, 0))\n",
    "arima = arima.fit(trend='c', full_output=True, disp=True)\n",
    "forecast = arima.forecast(steps= 30)\n",
    "pred = list(forecast[0])\n",
    "\n",
    "start_date = data['Date'].max()\n",
    "prediction_dates = []\n",
    "for i in range(30):\n",
    "    date = start_date + timedelta(days=1)\n",
    "    prediction_dates.append(date)\n",
    "    start_date = date\n",
    "plt.figure(figsize= (12,8))\n",
    "plt.xlabel(\"Dates\",fontsize = 20)\n",
    "plt.ylabel('World-Total confirmed cases',fontsize = 20)\n",
    "plt.title(\"Predicted values of confirmed cases with ARIMA\" , fontsize = 20)\n",
    "\n",
    "plt.plot_date(y= pred,x= prediction_dates,linestyle ='dashed',color = 'orange',label = 'Predicted');\n",
    "plt.plot_date(y=data['y'],x=data['Date'],linestyle = '-',color = 'cyan',label = 'Actual');\n",
    "plt.legend();"
   ]
  },
  {
   "cell_type": "markdown",
   "metadata": {
    "_cell_guid": "a8581bf8-08ed-4a07-a9f0-851e71fc663f",
    "_uuid": "79553508-9b3d-48c2-a996-1e4e63347734",
    "colab_type": "text",
    "id": "a0PafVmLnzb2"
   },
   "source": [
    "### Prophet Model for prediction"
   ]
  },
  {
   "cell_type": "code",
   "execution_count": null,
   "metadata": {
    "_cell_guid": "bee8739e-1279-4935-a1c2-2b4cc9405113",
    "_kg_hide-input": true,
    "_uuid": "99a9b045-386d-40d6-99cd-4ead8e96f1a7",
    "colab": {
     "base_uri": "https://localhost:8080/",
     "height": 492
    },
    "colab_type": "code",
    "id": "FK7okhsLnzb4",
    "outputId": "6c1a0c0a-9667-423a-897f-483347509823"
   },
   "outputs": [],
   "source": [
    "data = pd.DataFrame(columns = ['ds','y'])\n",
    "data['ds'] = c_world['Date'][50:]\n",
    "data['y'] = c_world['Confirmed'][50:].values\n",
    "\n",
    "prop=Prophet()\n",
    "prop.fit(data)\n",
    "future=prop.make_future_dataframe(periods=30)\n",
    "prop_forecast=prop.predict(future)\n",
    "forecast = prop_forecast[['ds','yhat']].tail(30)\n",
    "\n",
    "fig = plot_plotly(prop, prop_forecast)\n",
    "fig = prop.plot(prop_forecast,xlabel='Date',ylabel='World-Total confirmed cases')"
   ]
  },
  {
   "cell_type": "markdown",
   "metadata": {
    "colab_type": "text",
    "id": "4MIFvJkKnzb7"
   },
   "source": [
    "## Prediction of total death cases of the world"
   ]
  },
  {
   "cell_type": "code",
   "execution_count": null,
   "metadata": {
    "colab": {
     "base_uri": "https://localhost:8080/",
     "height": 85
    },
    "colab_type": "code",
    "id": "lr0V4phTnzb8",
    "outputId": "53912a96-5023-465e-ddaf-61a55b3f92d1"
   },
   "outputs": [],
   "source": [
    "#Splitting the dataset related to death cases of the world into training and test sets\n",
    "\n",
    "X_train_death, X_test_death, y_train_death, y_test_death = train_test_split(numbers_of_dates[50:],\n",
    "                                                                                c_world['Deaths'][50:].values,\n",
    "                                                                                test_size = 0.2, shuffle=False)\n",
    "\n",
    "print(X_train_death.shape)\n",
    "print(y_train_death.shape)\n",
    "print(X_test_death.shape)\n",
    "print(y_test_death.shape)"
   ]
  },
  {
   "cell_type": "markdown",
   "metadata": {
    "colab_type": "text",
    "id": "RJJFrUYcnzb_"
   },
   "source": [
    "### Support vector machine regressor"
   ]
  },
  {
   "cell_type": "code",
   "execution_count": null,
   "metadata": {
    "_kg_hide-input": true,
    "_kg_hide-output": true,
    "colab": {
     "base_uri": "https://localhost:8080/",
     "height": 316
    },
    "colab_type": "code",
    "id": "LdBbBITknzb_",
    "outputId": "c0a3e249-b467-4b66-ac33-018059052a49"
   },
   "outputs": [],
   "source": [
    "svm_reg = SVR(C=0.01,kernel='poly',gamma=0.01)\n",
    "svm_reg.fit(X_train_death, y_train_death)\n",
    "\n",
    "svm_pred = svm_reg.predict(num_start_to_futures[50:])\n",
    "\n",
    "y_pred = svm_reg.predict(X_test_death)\n",
    "\n",
    "plt.plot(y_test_death)\n",
    "plt.plot(y_pred)\n",
    "plt.legend(['Test Data', 'SVM Predictions'])\n",
    "\n",
    "mae=mean_absolute_error(y_pred, y_test_death)\n",
    "mse=mean_squared_error(y_pred, y_test_death)\n",
    "rmse = np.sqrt(mse)\n",
    "print(\"RMSE of \", svm_reg.__class__.__name__, round(rmse,2))\n",
    "print(\"MAE of \", svm_reg.__class__.__name__, round(mae,2), '\\n')"
   ]
  },
  {
   "cell_type": "code",
   "execution_count": null,
   "metadata": {
    "colab": {
     "base_uri": "https://localhost:8080/",
     "height": 578
    },
    "colab_type": "code",
    "id": "T85l2KuonzcD",
    "outputId": "3c0845c4-0b48-46fb-ed93-0f2cc6890824"
   },
   "outputs": [],
   "source": [
    "dates = dates_start_to_futures[50:-10]\n",
    "\n",
    "world_df=covid19_world.iloc[50:,:] \n",
    "\n",
    "plt.figure(figsize= (12,8))\n",
    "plt.xticks(rotation = 60 ,fontsize = 11)\n",
    "plt.yticks(fontsize = 10)\n",
    "plt.xlabel(\"Dates\",fontsize = 20)\n",
    "plt.ylabel('World-Total death cases',fontsize = 20)\n",
    "plt.title(\"Predicted values of death cases with SVM\" , fontsize = 20)\n",
    "\n",
    "plt.plot_date(y= world_df['Deaths'].values, x= dates, label = 'Death',alpha=0.5,linestyle ='-',color = 'cyan')\n",
    "plt.plot_date(y= svm_pred,x= dates_start_to_futures[50:],label = 'Forcast',alpha=0.4,linestyle ='-',color = 'orange')\n",
    "plt.legend()"
   ]
  },
  {
   "cell_type": "markdown",
   "metadata": {
    "colab_type": "text",
    "id": "jR4a-m_hnzcH"
   },
   "source": [
    "### Linear regression"
   ]
  },
  {
   "cell_type": "code",
   "execution_count": null,
   "metadata": {
    "colab": {
     "base_uri": "https://localhost:8080/",
     "height": 350
    },
    "colab_type": "code",
    "id": "07SfS_LznzcH",
    "outputId": "5aaa5d01-7ee0-43f8-d2da-e4cdaaf6dd84"
   },
   "outputs": [],
   "source": [
    "# transform the training data\n",
    "\n",
    "poly_features=PolynomialFeatures(degree=5)\n",
    "\n",
    "poly_X_train_death = poly_features.fit_transform(X_train_death)\n",
    "poly_X_test_death = poly_features.fit_transform(X_test_death)\n",
    "poly_future_forecast = poly_features.fit_transform(num_start_to_futures[50:])\n",
    "\n",
    "# fit a Linear Regression model\n",
    "lin_reg=LinearRegression(normalize=True, fit_intercept=False)\n",
    "\n",
    "lin_reg.fit(poly_X_train_death,y_train_death)\n",
    "coef=lin_reg.coef_\n",
    "print(\"coef: \", coef)\n",
    "\n",
    "y_pred = lin_reg.predict(poly_X_test_death)\n",
    "\n",
    "poly_pred = lin_reg.predict(poly_future_forecast)\n",
    "\n",
    "plt.plot(y_test_death)\n",
    "plt.plot(y_pred)\n",
    "plt.legend(['Test Data', 'Polynomial Regression Predictions'])\n",
    "\n",
    "mae=mean_absolute_error(y_pred, y_test_death)\n",
    "mse=mean_squared_error(y_pred, y_test_death)\n",
    "rmse = np.sqrt(mse)\n",
    "print(\"RMSE of \", lin_reg.__class__.__name__, round(rmse,2))\n",
    "print(\"MAE of \", lin_reg.__class__.__name__, round(mae,2), '\\n')"
   ]
  },
  {
   "cell_type": "code",
   "execution_count": null,
   "metadata": {
    "colab": {
     "base_uri": "https://localhost:8080/",
     "height": 578
    },
    "colab_type": "code",
    "id": "9wqx2uK5nzcK",
    "outputId": "a9623757-a6dc-4889-f2db-abb162d90885"
   },
   "outputs": [],
   "source": [
    "dates = dates_start_to_futures[50:-10]\n",
    "\n",
    "world_df=c_world.iloc[50:,:] \n",
    "\n",
    "plt.figure(figsize= (12,8))\n",
    "plt.xticks(rotation = 60 ,fontsize = 11)\n",
    "plt.yticks(fontsize = 10)\n",
    "plt.xlabel(\"Dates\",fontsize = 20)\n",
    "plt.ylabel('World-Total death cases',fontsize = 20)\n",
    "plt.title(\"Predicted values of death cases with polynomial regression\" , fontsize = 20)\n",
    "\n",
    "plt.plot_date(y= world_df['Deaths'].values, x= dates, label = 'Death',alpha=0.5,linestyle ='-',color = 'cyan')\n",
    "plt.plot_date(y= poly_pred,x= dates_start_to_futures[50:],label = 'Forecast',alpha=0.4,linestyle ='-',color = 'orange')\n",
    "plt.legend()"
   ]
  },
  {
   "cell_type": "markdown",
   "metadata": {
    "_cell_guid": "a8581bf8-08ed-4a07-a9f0-851e71fc663f",
    "_uuid": "79553508-9b3d-48c2-a996-1e4e63347734",
    "colab_type": "text",
    "id": "tfO3LhVdnzcO"
   },
   "source": [
    "### ARIMA for prediction"
   ]
  },
  {
   "cell_type": "code",
   "execution_count": null,
   "metadata": {
    "colab": {
     "base_uri": "https://localhost:8080/",
     "height": 527
    },
    "colab_type": "code",
    "id": "hWy73Xu0nzcO",
    "outputId": "9bfcb7d2-07c7-447c-ed85-5edc8651fdc3"
   },
   "outputs": [],
   "source": [
    "data = pd.DataFrame(columns = ['Date','y'])\n",
    "data['Date'] = c_world['Date'][50:]\n",
    "data['y'] = c_world['Deaths'][50:].values\n",
    "\n",
    "arima = ARIMA(data['y'], order=(5, 1, 0))\n",
    "arima = arima.fit(trend='c', full_output=True, disp=True)\n",
    "forecast = arima.forecast(steps= 30)\n",
    "pred = list(forecast[0])\n",
    "\n",
    "start_date = data['Date'].max()\n",
    "prediction_dates = []\n",
    "for i in range(30):\n",
    "    date = start_date + timedelta(days=1)\n",
    "    prediction_dates.append(date)\n",
    "    start_date = date\n",
    "plt.figure(figsize= (12,8))\n",
    "plt.xlabel(\"Dates\",fontsize = 20)\n",
    "plt.ylabel('World-Total death cases',fontsize = 20)\n",
    "plt.title(\"Predicted values of death cases with ARIMA\" , fontsize = 20)\n",
    "\n",
    "plt.plot_date(y= pred,x= prediction_dates,linestyle ='dashed',color = 'orange',label = 'Predicted');\n",
    "plt.plot_date(y=data['y'],x=data['Date'],linestyle = '-',color = 'cyan',label = 'Actual');\n",
    "plt.legend();"
   ]
  },
  {
   "cell_type": "markdown",
   "metadata": {
    "_cell_guid": "a8581bf8-08ed-4a07-a9f0-851e71fc663f",
    "_uuid": "79553508-9b3d-48c2-a996-1e4e63347734",
    "colab_type": "text",
    "id": "rDCG9sgZnzcQ"
   },
   "source": [
    "### Prophet Model for prediction"
   ]
  },
  {
   "cell_type": "code",
   "execution_count": null,
   "metadata": {
    "_cell_guid": "bee8739e-1279-4935-a1c2-2b4cc9405113",
    "_kg_hide-input": true,
    "_uuid": "99a9b045-386d-40d6-99cd-4ead8e96f1a7",
    "colab": {
     "base_uri": "https://localhost:8080/",
     "height": 475
    },
    "colab_type": "code",
    "id": "rRLAHDJvnzcV",
    "outputId": "bea378fd-63fb-49dd-d6ff-63fbfed42039"
   },
   "outputs": [],
   "source": [
    "data = pd.DataFrame(columns = ['ds','y'])\n",
    "data['ds'] = c_world['Date'][50:]\n",
    "data['y'] = c_world['Deaths'][50:].values\n",
    "\n",
    "prop=Prophet()\n",
    "prop.fit(data)\n",
    "future=prop.make_future_dataframe(periods=30)\n",
    "prop_forecast=prop.predict(future)\n",
    "forecast = prop_forecast[['ds','yhat']].tail(30)\n",
    "\n",
    "fig = plot_plotly(prop, prop_forecast)\n",
    "fig = prop.plot(prop_forecast,xlabel='Date',ylabel='World-Total death cases')"
   ]
  },
  {
   "cell_type": "markdown",
   "metadata": {
    "colab_type": "text",
    "id": "GKHaOhcNnzcY"
   },
   "source": [
    "## Prediction of confirmed cases of 5 most affected countries and Iran using ARIMA and Prophet"
   ]
  },
  {
   "cell_type": "markdown",
   "metadata": {
    "_cell_guid": "a8581bf8-08ed-4a07-a9f0-851e71fc663f",
    "_uuid": "79553508-9b3d-48c2-a996-1e4e63347734",
    "colab_type": "text",
    "id": "uEh6L0hDnzcY"
   },
   "source": [
    "### ARIMA for prediction"
   ]
  },
  {
   "cell_type": "code",
   "execution_count": null,
   "metadata": {
    "colab": {
     "base_uri": "https://localhost:8080/",
     "height": 1000
    },
    "colab_type": "code",
    "id": "sc3JSRw4nzcY",
    "outputId": "0248b705-74ac-481f-8912-e93258c6c860"
   },
   "outputs": [],
   "source": [
    "most_affected5=['US','Brazil','India','Russia','Peru','Iran']\n",
    "\n",
    "def country_df(i):\n",
    "    df=c_date_country[c_date_country['Country/Region'] == most_affected5[i]].iloc[50:,:]\n",
    "    return df\n",
    "\n",
    "k=0\n",
    "for j in most_affected5:\n",
    "    data = pd.DataFrame(columns = ['Date','y'])\n",
    "    data['Date'] = covid19_world['Date'][50:]\n",
    "    data['y'] = country_df(k)['Confirmed'].values\n",
    "\n",
    "    arima = ARIMA(data['y'], order=(5, 1, 0))\n",
    "    arima = arima.fit(trend='c', full_output=True, disp=True)\n",
    "    forecast = arima.forecast(steps= 30)\n",
    "    pred = list(forecast[0])\n",
    "\n",
    "    start_date = data['Date'].max()\n",
    "    prediction_dates = []\n",
    "    for i in range(30):\n",
    "        date = start_date + timedelta(days=1)\n",
    "        prediction_dates.append(date)\n",
    "        start_date = date\n",
    "    plt.figure(figsize= (12,8))\n",
    "    plt.xlabel(\"Dates\",fontsize = 20)\n",
    "    plt.ylabel('%s-Total confirmed cases' %(j),fontsize = 20)\n",
    "    plt.title(\"Predicted values of confirmed cases with ARIMA\" , fontsize = 20)\n",
    "\n",
    "    plt.plot_date(y= pred,x= prediction_dates,linestyle ='dashed',color = 'orange',label = 'Predicted');\n",
    "    plt.plot_date(y=data['y'],x=data['Date'],linestyle = '-',color = 'cyan',label = 'Actual');\n",
    "    plt.legend();\n",
    "    k=k+1"
   ]
  },
  {
   "cell_type": "markdown",
   "metadata": {
    "_cell_guid": "a8581bf8-08ed-4a07-a9f0-851e71fc663f",
    "_uuid": "79553508-9b3d-48c2-a996-1e4e63347734",
    "colab_type": "text",
    "id": "2OEpl-K2nzcb"
   },
   "source": [
    "### Prophet Model for prediction"
   ]
  },
  {
   "cell_type": "code",
   "execution_count": null,
   "metadata": {
    "_cell_guid": "bee8739e-1279-4935-a1c2-2b4cc9405113",
    "_kg_hide-input": true,
    "_uuid": "99a9b045-386d-40d6-99cd-4ead8e96f1a7",
    "colab": {
     "base_uri": "https://localhost:8080/",
     "height": 1000
    },
    "colab_type": "code",
    "id": "b7EBzWKknzcc",
    "outputId": "c75ece8d-76ae-4cfb-a873-f9629dd31219"
   },
   "outputs": [],
   "source": [
    "#most_affected5=['US','Brazil','India','Russia','Peru','Iran']\n",
    "\n",
    "def country_df(i):\n",
    "    df=c_date_country[c_date_country['Country/Region'] == most_affected5[i]].iloc[50:,:]\n",
    "    return df\n",
    "\n",
    "k=0\n",
    "for j in most_affected5:\n",
    "    data = pd.DataFrame(columns = ['ds','y'])\n",
    "    data['ds'] = c_world['Date'][50:]\n",
    "    data['y'] = country_df(k)['Confirmed'].values\n",
    "\n",
    "    prop=Prophet()\n",
    "    prop.fit(data)\n",
    "    future=prop.make_future_dataframe(periods=30)\n",
    "    prop_forecast=prop.predict(future)\n",
    "    forecast = prop_forecast[['ds','yhat']].tail(30)\n",
    "\n",
    "    fig = plot_plotly(prop, prop_forecast)\n",
    "    fig = prop.plot(prop_forecast,xlabel='Date',ylabel='%s-Total confirmed cases' %(j))\n",
    "    k=k+1"
   ]
  },
  {
   "cell_type": "markdown",
   "metadata": {
    "colab_type": "text",
    "id": "xfgcEJYgnzcf"
   },
   "source": [
    "## Deaths prediction of 5 most affected countries and Iran using ARIMA and Prophet"
   ]
  },
  {
   "cell_type": "markdown",
   "metadata": {
    "_cell_guid": "a8581bf8-08ed-4a07-a9f0-851e71fc663f",
    "_uuid": "79553508-9b3d-48c2-a996-1e4e63347734",
    "colab_type": "text",
    "id": "aO8ihpV-nzcg"
   },
   "source": [
    "### ARIMA for prediction"
   ]
  },
  {
   "cell_type": "code",
   "execution_count": null,
   "metadata": {
    "colab": {
     "base_uri": "https://localhost:8080/",
     "height": 1000
    },
    "colab_type": "code",
    "id": "jDftaW-Onzcg",
    "outputId": "30016d72-0a3f-49a4-9ae3-17d8687a3bee"
   },
   "outputs": [],
   "source": [
    "most_affected5=['US','Brazil','India','Russia','Peru','Iran']\n",
    "\n",
    "def country_df(i):\n",
    "    df=c_date_country[c_date_country['Country/Region'] == most_affected5[i]].iloc[50:,:]\n",
    "    return df\n",
    "\n",
    "k=0\n",
    "for j in most_affected5:\n",
    "    data = pd.DataFrame(columns = ['Date','y'])\n",
    "    data['Date'] = c_world['Date'][50:]\n",
    "    data['y'] = country_df(k)['Deaths'].values\n",
    "\n",
    "    arima = ARIMA(data['y'], order=(5, 1, 0))\n",
    "    arima = arima.fit(trend='c', full_output=True, disp=True)\n",
    "    forecast = arima.forecast(steps= 30)\n",
    "    pred = list(forecast[0])\n",
    "\n",
    "    start_date = data['Date'].max()\n",
    "    prediction_dates = []\n",
    "    for i in range(30):\n",
    "        date = start_date + timedelta(days=1)\n",
    "        prediction_dates.append(date)\n",
    "        start_date = date\n",
    "    plt.figure(figsize= (12,8))\n",
    "    plt.xlabel(\"Dates\",fontsize = 20)\n",
    "    plt.ylabel('%s-Total death cases' %(j),fontsize = 20)\n",
    "    plt.title(\"Predicted values of deaths cases with ARIMA\" , fontsize = 20)\n",
    "\n",
    "    plt.plot_date(y= pred,x= prediction_dates,linestyle ='dashed',color = 'gold',label = 'Predicted');\n",
    "    plt.plot_date(y=data['y'],x=data['Date'],linestyle = '-',color = 'limegreen',label = 'Actual');\n",
    "    plt.legend();\n",
    "    k=k+1"
   ]
  },
  {
   "cell_type": "markdown",
   "metadata": {
    "_cell_guid": "a8581bf8-08ed-4a07-a9f0-851e71fc663f",
    "_uuid": "79553508-9b3d-48c2-a996-1e4e63347734",
    "colab_type": "text",
    "id": "MaXIcKZKnzcn"
   },
   "source": [
    "### Prophet Model for prediction"
   ]
  },
  {
   "cell_type": "code",
   "execution_count": null,
   "metadata": {
    "_cell_guid": "bee8739e-1279-4935-a1c2-2b4cc9405113",
    "_kg_hide-input": true,
    "_uuid": "99a9b045-386d-40d6-99cd-4ead8e96f1a7",
    "colab": {
     "base_uri": "https://localhost:8080/",
     "height": 1000
    },
    "colab_type": "code",
    "id": "uD0xO8Y8nzco",
    "outputId": "8ffe0ff7-1eac-4331-bcc3-25a19d6ebfc9"
   },
   "outputs": [],
   "source": [
    "#most_affected5=['US','Brazil','India','Russia','Peru','Iran']\n",
    "\n",
    "def country_df(i):\n",
    "    df=c_date_country[c_date_country['Country/Region'] == most_affected5[i]].iloc[50:,:]\n",
    "    return df\n",
    "\n",
    "k=0\n",
    "for j in most_affected5:\n",
    "    data = pd.DataFrame(columns = ['ds','y'])\n",
    "    data['ds'] = covid19_world['Date'][50:]\n",
    "    data['y'] = country_df(k)['Deaths'].values\n",
    "\n",
    "    prop=Prophet()\n",
    "    prop.fit(data)\n",
    "    future=prop.make_future_dataframe(periods=30)\n",
    "    prop_forecast=prop.predict(future)\n",
    "    forecast = prop_forecast[['ds','yhat']].tail(30)\n",
    "\n",
    "    fig = plot_plotly(prop, prop_forecast)\n",
    "    fig = prop.plot(prop_forecast,xlabel='Date',ylabel='%s-Total deaths cases' %(j))\n",
    "    k=k+1"
   ]
  },
  {
   "cell_type": "markdown",
   "metadata": {
    "colab_type": "text",
    "id": "WcX8rFVhpfo-"
   },
   "source": [
    "### Multilayer Perceptron (MLP)"
   ]
  },
  {
   "cell_type": "code",
   "execution_count": null,
   "metadata": {
    "colab": {
     "base_uri": "https://localhost:8080/",
     "height": 34
    },
    "colab_type": "code",
    "id": "knNr1zb4nzc_",
    "outputId": "b44bca6d-151c-457a-94fb-56607a814093"
   },
   "outputs": [],
   "source": [
    "from keras.preprocessing.sequence import TimeseriesGenerator"
   ]
  },
  {
   "cell_type": "code",
   "execution_count": null,
   "metadata": {
    "colab": {
     "base_uri": "https://localhost:8080/",
     "height": 374
    },
    "colab_type": "code",
    "id": "0rhLtG24xJcn",
    "outputId": "eed3b13b-869f-4a95-ecd5-30778f087b45"
   },
   "outputs": [],
   "source": [
    "n_input = n_steps \n",
    "n_features = 1 \n",
    "generator = TimeseriesGenerator(normal_train,normal_train,length = n_input,batch_size=1)\n",
    "\n",
    "# number of samples\n",
    "print('Samples: %d' % len(generator))\n",
    "\n",
    "for i in range(len(generator)-2,len(generator)):\n",
    "    x, y = generator[i]\n",
    "    print('%s => %s' % (x, y))"
   ]
  },
  {
   "cell_type": "code",
   "execution_count": null,
   "metadata": {
    "colab": {},
    "colab_type": "code",
    "id": "l3YnzWoZ8stD"
   },
   "outputs": [],
   "source": [
    "# estimation: input_neurons=3/2*num_hidden*num_input--->3/2x1x(len(df)-n_steps-batch_size)"
   ]
  },
  {
   "cell_type": "code",
   "execution_count": null,
   "metadata": {
    "colab": {},
    "colab_type": "code",
    "id": "_Zb8lG15ynhL"
   },
   "outputs": [],
   "source": [
    "# Multilayer Perceptron (MLP) model with one hidden layer\n",
    "\n",
    "from keras.models import Sequential\n",
    "from keras.layers import Dense, Activation,Flatten\n",
    "\n",
    "model = Sequential()\n",
    "model.add(Dense(200, activation='relu',input_shape=(n_input,n_features)))\n",
    "model.add(Flatten())\n",
    "model.add(Dense(units=1))\n",
    "model.compile(optimizer='adam', loss='mse')"
   ]
  },
  {
   "cell_type": "code",
   "execution_count": null,
   "metadata": {
    "colab": {
     "base_uri": "https://localhost:8080/",
     "height": 255
    },
    "colab_type": "code",
    "id": "TM9vvD_a1_VR",
    "outputId": "d04f44c8-4045-45ec-bd6a-f51c7d252205"
   },
   "outputs": [],
   "source": [
    "model.summary()"
   ]
  },
  {
   "cell_type": "code",
   "execution_count": null,
   "metadata": {
    "colab": {
     "base_uri": "https://localhost:8080/",
     "height": 204
    },
    "colab_type": "code",
    "id": "_Vt1IVqe21os",
    "outputId": "cbfa2a46-9e41-4176-abc0-a6fdc7126adc"
   },
   "outputs": [],
   "source": [
    "validation_set = np.append(normal_train[-1],normal_test)\n",
    "validation_set=validation_set.reshape(n_steps+1,1)\n",
    "validation_set"
   ]
  },
  {
   "cell_type": "code",
   "execution_count": null,
   "metadata": {
    "colab": {},
    "colab_type": "code",
    "id": "_bN3ArKp42zR"
   },
   "outputs": [],
   "source": [
    "n_input = n_steps\n",
    "n_features = 1\n",
    "validation_gen = TimeseriesGenerator(validation_set,validation_set,length = n_input,batch_size=1)"
   ]
  },
  {
   "cell_type": "code",
   "execution_count": null,
   "metadata": {
    "colab": {
     "base_uri": "https://localhost:8080/",
     "height": 1000
    },
    "colab_type": "code",
    "id": "0B0QCy-y13sr",
    "outputId": "ccd4deaf-f623-4e5d-ef18-cd48df1f80d6"
   },
   "outputs": [],
   "source": [
    "from tensorflow.keras.callbacks import EarlyStopping\n",
    "early_stop = EarlyStopping(monitor='val_loss',patience=20,restore_best_weights=True)\n",
    "\n",
    "# fit the model\n",
    "model.fit_generator(generator,validation_data=validation_gen,epochs=200,callbacks=[early_stop],steps_per_epoch=10)"
   ]
  },
  {
   "cell_type": "code",
   "execution_count": null,
   "metadata": {
    "colab": {
     "base_uri": "https://localhost:8080/",
     "height": 298
    },
    "colab_type": "code",
    "id": "jl5GBnK-14F7",
    "outputId": "d2db4c41-c124-468a-ee02-d778ab6e7d79"
   },
   "outputs": [],
   "source": [
    "pd.DataFrame(model.history.history).plot(title=\"Loss vs epochs curve\")"
   ]
  },
  {
   "cell_type": "code",
   "execution_count": null,
   "metadata": {
    "colab": {
     "base_uri": "https://localhost:8080/",
     "height": 34
    },
    "colab_type": "code",
    "id": "Jq0F4WJQ14cA",
    "outputId": "ff04754d-a1ce-4315-a180-fe02e4f95890"
   },
   "outputs": [],
   "source": [
    "model.history.history.keys()"
   ]
  },
  {
   "cell_type": "code",
   "execution_count": null,
   "metadata": {
    "colab": {
     "base_uri": "https://localhost:8080/",
     "height": 298
    },
    "colab_type": "code",
    "id": "e30MntYENIyC",
    "outputId": "f89b049c-44a6-4b28-db07-6de96b8e9755"
   },
   "outputs": [],
   "source": [
    "loss_1 = model.history.history[\"val_loss\"]\n",
    "plt.title(\"Validation loss vs epochs\")\n",
    "plt.plot(range(len(loss_1)),loss_1)"
   ]
  },
  {
   "cell_type": "code",
   "execution_count": null,
   "metadata": {
    "colab": {
     "base_uri": "https://localhost:8080/",
     "height": 298
    },
    "colab_type": "code",
    "id": "pIrQWe-sfDk7",
    "outputId": "3733cc9c-f771-4809-f5d9-a534aeb8956b"
   },
   "outputs": [],
   "source": [
    "loss_1 = model.history.history[\"loss\"]\n",
    "plt.title(\"Training loss vs epochs\")\n",
    "plt.plot(range(len(loss_1)),loss_1)"
   ]
  },
  {
   "cell_type": "code",
   "execution_count": null,
   "metadata": {
    "colab": {
     "base_uri": "https://localhost:8080/",
     "height": 34
    },
    "colab_type": "code",
    "id": "lFczMp7pZ-I6",
    "outputId": "79fb590e-9fca-4b13-8e6d-a43fd965457e"
   },
   "outputs": [],
   "source": [
    "# list of predictions\n",
    "test_prediction = []\n",
    "\n",
    "# last `n_input` points from training set\n",
    "current_batch = normal_train[-n_input:].reshape(1,n_input,n_features)\n",
    "\n",
    "current_batch.shape"
   ]
  },
  {
   "cell_type": "code",
   "execution_count": null,
   "metadata": {
    "colab": {
     "base_uri": "https://localhost:8080/",
     "height": 306
    },
    "colab_type": "code",
    "id": "6wQfXWX4Z-JH",
    "outputId": "69b25643-092e-4a43-b9f0-addde4055685"
   },
   "outputs": [],
   "source": [
    "# forecast the number of confirmed cases in Iran for the validation set and the next 7 days\n",
    "\n",
    "for i in range(n_steps+7):\n",
    "    current_pred = model.predict(current_batch)[0]\n",
    "    test_prediction.append(current_pred)\n",
    "    current_batch = np.append(current_batch[:,1:,:],[[current_pred]],axis=1)\n",
    "\n",
    "test_prediction"
   ]
  },
  {
   "cell_type": "code",
   "execution_count": null,
   "metadata": {
    "colab": {
     "base_uri": "https://localhost:8080/",
     "height": 102
    },
    "colab_type": "code",
    "id": "-ca3ruvUZ-JI",
    "outputId": "026cedfd-d660-4dfc-a5d9-82a6583eed87"
   },
   "outputs": [],
   "source": [
    "# apply inverse transformations on scaled data\n",
    "true_prediction = normal.inverse_transform(test_prediction)\n",
    "true_prediction[:,0]"
   ]
  },
  {
   "cell_type": "markdown",
   "metadata": {
    "colab_type": "text",
    "id": "uPsJ_Urxp4gq"
   },
   "source": [
    "### A recurrent neural network, Long Short-Term Memory network (LSTM)"
   ]
  },
  {
   "cell_type": "code",
   "execution_count": null,
   "metadata": {
    "colab": {
     "base_uri": "https://localhost:8080/",
     "height": 34
    },
    "colab_type": "code",
    "id": "KpAWcigkrO4J",
    "outputId": "94639fa9-29b3-47f6-cbd1-ba3252b5b951"
   },
   "outputs": [],
   "source": [
    "# number of inputs and number of features\n",
    "n_input = n_steps \n",
    "n_features = 1 \n",
    "generator = TimeseriesGenerator(normal_train,normal_train,length = n_input,batch_size=1)\n",
    "\n",
    "# number of samples\n",
    "print('Samples: %d' % len(generator))"
   ]
  },
  {
   "cell_type": "code",
   "execution_count": null,
   "metadata": {
    "colab": {
     "base_uri": "https://localhost:8080/",
     "height": 255
    },
    "colab_type": "code",
    "id": "9QXSwFZArO4P",
    "outputId": "c1a0260f-5734-4993-80af-35d0ae0c5a23"
   },
   "outputs": [],
   "source": [
    "# A recurrent neural network (LSTM) model with two hidden layers containing 150+75 nodes\n",
    "\n",
    "from keras.layers import Dense, LSTM, Dropout, Activation\n",
    "\n",
    "model = Sequential()\n",
    "model.add(LSTM(150,activation=\"relu\",input_shape=(n_input,n_features)))\n",
    "model.add(Dense(75, activation='relu'))\n",
    "model.add(Dense(units=1))\n",
    "model.compile(optimizer=\"adam\",loss=\"mse\")\n",
    "\n",
    "model.summary()"
   ]
  },
  {
   "cell_type": "code",
   "execution_count": null,
   "metadata": {
    "colab": {
     "base_uri": "https://localhost:8080/",
     "height": 204
    },
    "colab_type": "code",
    "id": "jSiukRZkrO4U",
    "outputId": "4008a741-735a-423b-afc8-448f13e808b8"
   },
   "outputs": [],
   "source": [
    "validation_set = np.append(normal_train[-1],normal_test)\n",
    "validation_set=validation_set.reshape(11,1)\n",
    "validation_set"
   ]
  },
  {
   "cell_type": "code",
   "execution_count": null,
   "metadata": {
    "colab": {},
    "colab_type": "code",
    "id": "f7-WNgHyrO4W"
   },
   "outputs": [],
   "source": [
    "n_input = n_steps\n",
    "n_features = 1\n",
    "validation_gen = TimeseriesGenerator(validation_set,validation_set,length = n_input,batch_size=1)"
   ]
  },
  {
   "cell_type": "code",
   "execution_count": null,
   "metadata": {
    "colab": {
     "base_uri": "https://localhost:8080/",
     "height": 1000
    },
    "colab_type": "code",
    "id": "OSX_kLjqrO4a",
    "outputId": "ae0c3b53-8aaa-4aa8-b1d8-5ab253e4ed7a"
   },
   "outputs": [],
   "source": [
    "# fit model\n",
    "model.fit_generator(generator,validation_data=validation_gen,epochs=200,callbacks=[early_stop],steps_per_epoch=10)\n",
    "#model.fit_generator(generator,validation_data=validation_gen,epochs=500,callbacks=[early_stop],steps_per_epoch=1)"
   ]
  },
  {
   "cell_type": "code",
   "execution_count": null,
   "metadata": {
    "colab": {
     "base_uri": "https://localhost:8080/",
     "height": 298
    },
    "colab_type": "code",
    "id": "qfacNd5IrO4c",
    "outputId": "2cf12a5c-e446-4625-838e-bc3151390a0a"
   },
   "outputs": [],
   "source": [
    "pd.DataFrame(model.history.history).plot(title=\"Loss vs epochs curve\")"
   ]
  },
  {
   "cell_type": "code",
   "execution_count": null,
   "metadata": {
    "colab": {
     "base_uri": "https://localhost:8080/",
     "height": 34
    },
    "colab_type": "code",
    "id": "N4t3BSpnrO4f",
    "outputId": "f20b8388-561a-4830-a8c8-bd095c58b250"
   },
   "outputs": [],
   "source": [
    "model.history.history.keys()"
   ]
  },
  {
   "cell_type": "code",
   "execution_count": null,
   "metadata": {
    "colab": {
     "base_uri": "https://localhost:8080/",
     "height": 298
    },
    "colab_type": "code",
    "id": "_cALuIforO4h",
    "outputId": "da5d1daa-427a-4525-fc80-21320d6a6cd4"
   },
   "outputs": [],
   "source": [
    "loss_1 = model.history.history[\"val_loss\"]\n",
    "plt.title(\"Validation loss vs epochs\")\n",
    "plt.plot(range(len(loss_1)),loss_1)"
   ]
  },
  {
   "cell_type": "code",
   "execution_count": null,
   "metadata": {
    "colab": {
     "base_uri": "https://localhost:8080/",
     "height": 298
    },
    "colab_type": "code",
    "id": "m_0yMZkbrO4j",
    "outputId": "6049b3f0-454a-48da-aa54-bd56cc1d2bea"
   },
   "outputs": [],
   "source": [
    "loss_1 = model.history.history[\"loss\"]\n",
    "plt.title(\"Training loss vs epochs\")\n",
    "plt.plot(range(len(loss_1)),loss_1)"
   ]
  },
  {
   "cell_type": "code",
   "execution_count": null,
   "metadata": {
    "colab": {
     "base_uri": "https://localhost:8080/",
     "height": 34
    },
    "colab_type": "code",
    "id": "8XPoV-A3NIWn",
    "outputId": "dc6c7a44-1286-413d-f965-cb8ef1101b5c"
   },
   "outputs": [],
   "source": [
    "# list of predictions\n",
    "test_prediction = []\n",
    "\n",
    "#last `n_input` points from training set\n",
    "current_batch = normal_train[-n_input:].reshape(1,n_input,n_features)\n",
    "\n",
    "current_batch.shape"
   ]
  },
  {
   "cell_type": "code",
   "execution_count": null,
   "metadata": {
    "colab": {
     "base_uri": "https://localhost:8080/",
     "height": 306
    },
    "colab_type": "code",
    "id": "ExAdSvlKNH4u",
    "outputId": "8aacdd3f-fdbc-4ffb-f1a2-502651212c4a"
   },
   "outputs": [],
   "source": [
    "# forecast the number of Confirmed cases in Iran for validation set and the next 7 days\n",
    "\n",
    "for i in range(n_steps+7):\n",
    "    current_pred = model.predict(current_batch)[0]\n",
    "    test_prediction.append(current_pred)\n",
    "    current_batch = np.append(current_batch[:,1:,:],[[current_pred]],axis=1)\n",
    "\n",
    "test_prediction"
   ]
  },
  {
   "cell_type": "code",
   "execution_count": null,
   "metadata": {
    "colab": {
     "base_uri": "https://localhost:8080/",
     "height": 102
    },
    "colab_type": "code",
    "id": "Jd27qJWnNf2X",
    "outputId": "cd373a6d-8560-4e4d-8a97-f04feb44d501"
   },
   "outputs": [],
   "source": [
    "# apply inverse transformations on scaled data\n",
    "true_prediction = normal.inverse_transform(test_prediction)\n",
    "true_prediction[:,0]"
   ]
  },
  {
   "cell_type": "code",
   "execution_count": null,
   "metadata": {
    "colab": {
     "base_uri": "https://localhost:8080/",
     "height": 51
    },
    "colab_type": "code",
    "id": "B3iLs54RkOC4",
    "outputId": "d42b32bb-208d-44ba-954c-57b759b3aa2b"
   },
   "outputs": [],
   "source": [
    "# number of days in future considered to forecast\n",
    "future_days = 7\n",
    "\n",
    "# first date of test\n",
    "first_date = iran_df1.iloc[train_size:]['Date'].tolist()[0]\n",
    "first_date=pd.to_datetime(first_date)\n",
    "print(type(first_date))\n",
    "# find dates related to days from start of test set to future\n",
    "dates_first_to_futures = pd.Series([(first_date + timedelta(days=i)) for i in range(n_steps+7)])\n",
    "print(dates_first_to_futures.shape)"
   ]
  },
  {
   "cell_type": "code",
   "execution_count": null,
   "metadata": {
    "colab": {
     "base_uri": "https://localhost:8080/",
     "height": 576
    },
    "colab_type": "code",
    "id": "NmV_ubmxmPoD",
    "outputId": "a3670d2c-0067-4b23-938a-361b2baa04a9"
   },
   "outputs": [],
   "source": [
    "prediction_df = pd.DataFrame(columns=[\"Confirmed\",\"Confirmed_predicted\"],index=dates_first_to_futures)\n",
    "\n",
    "prediction_df.loc[:,\"Confirmed_predicted\"] = true_prediction[:,0]\n",
    "test_set=iran_df1.iloc[train_size:]['Confirmed'].values.tolist()\n",
    "prediction_df.loc[:n_steps,\"Confirmed\"] = iran_df1.iloc[train_size:]['Confirmed'].values.tolist()\n",
    "prediction_df"
   ]
  },
  {
   "cell_type": "code",
   "execution_count": null,
   "metadata": {
    "colab": {
     "base_uri": "https://localhost:8080/",
     "height": 322
    },
    "colab_type": "code",
    "id": "-vhCPrwF6LPu",
    "outputId": "ef9888f3-d87b-4394-8b87-59900b8eaa68"
   },
   "outputs": [],
   "source": [
    "prediction_df.plot(title=\"Iran Predictions for next 7 days-LSTM\")"
   ]
  },
  {
   "cell_type": "code",
   "execution_count": null,
   "metadata": {
    "colab": {
     "base_uri": "https://localhost:8080/",
     "height": 34
    },
    "colab_type": "code",
    "id": "hOTQRW1kDDoc",
    "outputId": "8d4d3af0-d3b9-4a44-a8d6-0f5f9f7702d3"
   },
   "outputs": [],
   "source": [
    "MAPE = np.mean(np.abs(np.array(prediction_df[\"Confirmed\"][:n_steps]) -\\\n",
    "                      np.array(prediction_df[\"Confirmed_predicted\"][:n_steps]))/np.array(prediction_df[\"Confirmed\"][:n_steps]))\n",
    "print(\"MAPE is \",MAPE*100, \" %\")"
   ]
  },
  {
   "cell_type": "code",
   "execution_count": null,
   "metadata": {
    "colab": {
     "base_uri": "https://localhost:8080/",
     "height": 34
    },
    "colab_type": "code",
    "id": "bzQThL4tDEBN",
    "outputId": "3009d90f-5775-4307-f9af-5eaf532d0431"
   },
   "outputs": [],
   "source": [
    "print(\"Accuracy: \", 100-MAPE,\"%\")"
   ]
  },
  {
   "cell_type": "markdown",
   "metadata": {
    "colab_type": "text",
    "id": "oOXd27uYl1EE"
   },
   "source": [
    "## Prediction of deaths of Iran using MLP and LSTM-RNN"
   ]
  },
  {
   "cell_type": "code",
   "execution_count": null,
   "metadata": {
    "colab": {
     "base_uri": "https://localhost:8080/",
     "height": 204
    },
    "colab_type": "code",
    "id": "cYoMqRHfl1EL",
    "outputId": "cddae56c-ff6b-4251-b11f-d6999ab30113"
   },
   "outputs": [],
   "source": [
    "iran_df1=iran_df[['Date','Deaths']].copy().loc[:]\n",
    "iran_df1.head()"
   ]
  },
  {
   "cell_type": "code",
   "execution_count": null,
   "metadata": {
    "colab": {
     "base_uri": "https://localhost:8080/",
     "height": 34
    },
    "colab_type": "code",
    "id": "DfkpbxdSl1Ea",
    "outputId": "afa726cc-05ac-4cad-dcd2-d1c0ee30265a"
   },
   "outputs": [],
   "source": [
    "len(iran_df1)"
   ]
  },
  {
   "cell_type": "code",
   "execution_count": null,
   "metadata": {
    "colab": {
     "base_uri": "https://localhost:8080/",
     "height": 34
    },
    "colab_type": "code",
    "id": "ODiXZPNcl1Eg",
    "outputId": "71d92c33-a32e-40e8-87c4-85a73d9c7acd"
   },
   "outputs": [],
   "source": [
    "# the size of the validation set (number of steps), i.e taking `n_steps` data points to predict `n_steps+1`th data point\n",
    "#The batches would be [feed=[t_1,...,t_{n_steps}],predict=tt_{n_steps+1}].\n",
    "\n",
    "n_steps=10\n",
    "\n",
    "#n_steps=5\n",
    "\n",
    "# training set size\n",
    "train_size=len(iran_df1)-n_steps\n",
    "\n",
    "conf=iran_df1['Deaths'].values.reshape(-1,1)\n",
    "\n",
    "# split training and test set\n",
    "train = conf[:train_size]#['Deaths'].values.reshape(-1,1)\n",
    "test = conf[train_size:]#['Deaths'].values.reshape(-1,1)\n",
    "\n",
    "# scaling the data since the data is too skewed\n",
    "normal = MinMaxScaler()\n",
    "\n",
    "normal = normal.fit(train)\n",
    "\n",
    "normal_train = normal.transform(train)\n",
    "normal_test = normal.transform(test)\n",
    "\n",
    "len(normal_train)"
   ]
  },
  {
   "cell_type": "code",
   "execution_count": null,
   "metadata": {
    "colab": {
     "base_uri": "https://localhost:8080/",
     "height": 187
    },
    "colab_type": "code",
    "id": "HX5YyYdql1Ei",
    "outputId": "57e894d5-5489-4b8f-8edd-07494e396bcb"
   },
   "outputs": [],
   "source": [
    "normal_test"
   ]
  },
  {
   "cell_type": "markdown",
   "metadata": {
    "colab_type": "text",
    "id": "M1CFf2yEl1Ek"
   },
   "source": [
    "### Multilayer Perceptron (MLP)"
   ]
  },
  {
   "cell_type": "code",
   "execution_count": null,
   "metadata": {
    "colab": {},
    "colab_type": "code",
    "id": "Eps3rGEcl1El"
   },
   "outputs": [],
   "source": [
    "from keras.preprocessing.sequence import TimeseriesGenerator"
   ]
  },
  {
   "cell_type": "code",
   "execution_count": null,
   "metadata": {
    "colab": {
     "base_uri": "https://localhost:8080/",
     "height": 51
    },
    "colab_type": "code",
    "id": "NxDr6cirl1Ep",
    "outputId": "75249780-c5e6-45dd-9a0e-2b69c23ca736"
   },
   "outputs": [],
   "source": [
    "# number of inputs and number of features\n",
    "n_input = n_steps \n",
    "print(n_input)\n",
    "n_features = 1 \n",
    "generator = TimeseriesGenerator(normal_train,normal_train,length = n_input,batch_size=1)\n",
    "\n",
    "# number of samples\n",
    "print('Samples: %d' % len(generator))"
   ]
  },
  {
   "cell_type": "code",
   "execution_count": null,
   "metadata": {
    "colab": {
     "base_uri": "https://localhost:8080/",
     "height": 357
    },
    "colab_type": "code",
    "id": "YmugFRx5l1Eq",
    "outputId": "607893c9-caa1-4f0d-9e10-ba5f3c99e316"
   },
   "outputs": [],
   "source": [
    "for i in range(len(generator)-2,len(generator)):\n",
    "    x, y = generator[i]\n",
    "    print('%s => %s' % (x, y))"
   ]
  },
  {
   "cell_type": "code",
   "execution_count": null,
   "metadata": {
    "colab": {},
    "colab_type": "code",
    "id": "P-WzqJs8l1Es"
   },
   "outputs": [],
   "source": [
    "# good estimation: input_neuron=3/2*num_hidden*num_input--->3/2x1x(len(df)-n_steps-batch_size)"
   ]
  },
  {
   "cell_type": "code",
   "execution_count": null,
   "metadata": {
    "colab": {
     "base_uri": "https://localhost:8080/",
     "height": 255
    },
    "colab_type": "code",
    "id": "P-SDA_b8l1Ew",
    "outputId": "d8e8542d-dcd0-4d2f-d88d-e269a0587801"
   },
   "outputs": [],
   "source": [
    "# Multilayer Perceptron (MLP) model with one hidden layer\n",
    "\n",
    "from keras.models import Sequential\n",
    "from keras.layers import Dense, Activation,Flatten\n",
    "\n",
    "model = Sequential()\n",
    "model.add(Dense(200, activation='relu',input_shape=(n_input,n_features)))\n",
    "model.add(Flatten())\n",
    "model.add(Dense(units=1))\n",
    "model.compile(optimizer='adam', loss='mse')\n",
    "\n",
    "model.summary()"
   ]
  },
  {
   "cell_type": "code",
   "execution_count": null,
   "metadata": {
    "colab": {
     "base_uri": "https://localhost:8080/",
     "height": 204
    },
    "colab_type": "code",
    "id": "ZOdqUjqnl1Ey",
    "outputId": "670fccba-5ef2-481e-d525-ae6eaec08044"
   },
   "outputs": [],
   "source": [
    "validation_set = np.append(normal_train[-1],normal_test)\n",
    "validation_set=validation_set.reshape(n_steps+1,1)\n",
    "validation_set"
   ]
  },
  {
   "cell_type": "code",
   "execution_count": null,
   "metadata": {
    "colab": {},
    "colab_type": "code",
    "id": "lsi-2EEZl1E0"
   },
   "outputs": [],
   "source": [
    "n_input = n_steps\n",
    "n_features = 1\n",
    "validation_gen = TimeseriesGenerator(validation_set,validation_set,length = n_input,batch_size=1)"
   ]
  },
  {
   "cell_type": "code",
   "execution_count": null,
   "metadata": {
    "colab": {
     "base_uri": "https://localhost:8080/",
     "height": 1000
    },
    "colab_type": "code",
    "id": "ups_h49cl1E4",
    "outputId": "ad60ef94-c96c-42f4-fcd8-aa8a7d110425"
   },
   "outputs": [],
   "source": [
    "from tensorflow.keras.callbacks import EarlyStopping\n",
    "early_stop = EarlyStopping(monitor='val_loss',patience=20,restore_best_weights=True)\n",
    "\n",
    "# fit model\n",
    "model.fit_generator(generator,validation_data=validation_gen,epochs=200,callbacks=[early_stop],steps_per_epoch=10)"
   ]
  },
  {
   "cell_type": "code",
   "execution_count": null,
   "metadata": {
    "colab": {
     "base_uri": "https://localhost:8080/",
     "height": 298
    },
    "colab_type": "code",
    "id": "ITOFwwqFl1E6",
    "outputId": "2fc69697-6d07-417d-a92f-f867fc53c556"
   },
   "outputs": [],
   "source": [
    "pd.DataFrame(model.history.history).plot(title=\"Loss vs epochs curve\")"
   ]
  },
  {
   "cell_type": "code",
   "execution_count": null,
   "metadata": {
    "colab": {
     "base_uri": "https://localhost:8080/",
     "height": 34
    },
    "colab_type": "code",
    "id": "AFmZfevKl1E8",
    "outputId": "4565dfba-bd4b-49ab-cf0f-8e2b1dd093da"
   },
   "outputs": [],
   "source": [
    "model.history.history.keys()"
   ]
  },
  {
   "cell_type": "code",
   "execution_count": null,
   "metadata": {
    "colab": {
     "base_uri": "https://localhost:8080/",
     "height": 298
    },
    "colab_type": "code",
    "id": "AhkTQbNml1E-",
    "outputId": "2fdbed89-09ea-433c-8e1d-70eed5e09c00"
   },
   "outputs": [],
   "source": [
    "loss_1 = model.history.history[\"val_loss\"]\n",
    "plt.title(\"Validation loss vs epochs\")\n",
    "plt.plot(range(len(loss_1)),loss_1)"
   ]
  },
  {
   "cell_type": "code",
   "execution_count": null,
   "metadata": {
    "colab": {
     "base_uri": "https://localhost:8080/",
     "height": 298
    },
    "colab_type": "code",
    "id": "En6VY4-Zl1FC",
    "outputId": "928f588c-b03b-48b9-97b3-cb4ea1511bf2"
   },
   "outputs": [],
   "source": [
    "loss_1 = model.history.history[\"loss\"]\n",
    "plt.title(\"Training loss vs epochs\")\n",
    "plt.plot(range(len(loss_1)),loss_1)"
   ]
  },
  {
   "cell_type": "code",
   "execution_count": null,
   "metadata": {
    "colab": {
     "base_uri": "https://localhost:8080/",
     "height": 34
    },
    "colab_type": "code",
    "id": "8phtRb9sl1FG",
    "outputId": "61568f23-6e40-4b4f-b0d3-6a094f4637be"
   },
   "outputs": [],
   "source": [
    "# list of predictions\n",
    "test_prediction = []\n",
    "\n",
    "#last `n_input` points from training set\n",
    "current_batch = normal_train[-n_input:].reshape(1,n_input,n_features)\n",
    "\n",
    "current_batch.shape"
   ]
  },
  {
   "cell_type": "code",
   "execution_count": null,
   "metadata": {
    "colab": {
     "base_uri": "https://localhost:8080/",
     "height": 306
    },
    "colab_type": "code",
    "id": "JoXvyfnIl1FK",
    "outputId": "67a966f4-4ef0-4fc1-9263-8c86838c0b96"
   },
   "outputs": [],
   "source": [
    "# forecast the number of Deaths cases in Iran for validation set and the next 7 days\n",
    "\n",
    "for i in range(n_steps+7):\n",
    "    current_pred = model.predict(current_batch)[0]\n",
    "    test_prediction.append(current_pred)\n",
    "    current_batch = np.append(current_batch[:,1:,:],[[current_pred]],axis=1)\n",
    "\n",
    "test_prediction"
   ]
  },
  {
   "cell_type": "code",
   "execution_count": null,
   "metadata": {
    "colab": {
     "base_uri": "https://localhost:8080/",
     "height": 102
    },
    "colab_type": "code",
    "id": "y_RxWp6ml1FO",
    "outputId": "f502349a-f174-4583-9e0f-d96cedfdea5a"
   },
   "outputs": [],
   "source": [
    "# apply inverse transformations on scaled data\n",
    "true_prediction = normal.inverse_transform(test_prediction)\n",
    "true_prediction[:,0]"
   ]
  },
  {
   "cell_type": "code",
   "execution_count": null,
   "metadata": {
    "colab": {
     "base_uri": "https://localhost:8080/",
     "height": 322
    },
    "colab_type": "code",
    "id": "4utNVyqml1Fa",
    "outputId": "73ad2468-a6f2-4671-fba3-36c24040d4f1"
   },
   "outputs": [],
   "source": [
    "prediction_df.plot(title=\"Iran Predictions for next 7 days-MLP\")"
   ]
  },
  {
   "cell_type": "code",
   "execution_count": null,
   "metadata": {
    "colab": {
     "base_uri": "https://localhost:8080/",
     "height": 34
    },
    "colab_type": "code",
    "id": "RFgCni33l1Fc",
    "outputId": "e4bd2245-987c-43f0-d3bc-5227da120445"
   },
   "outputs": [],
   "source": [
    "MAPE = np.mean(np.abs(np.array(prediction_df[\"Deaths\"][:n_steps]) -\\\n",
    "                      np.array(prediction_df[\"Deaths_predicted\"][:n_steps]))/np.array(prediction_df[\"Deaths\"][:n_steps]))\n",
    "print(\"MAPE is \",MAPE*100, \" %\")"
   ]
  },
  {
   "cell_type": "code",
   "execution_count": null,
   "metadata": {
    "colab": {
     "base_uri": "https://localhost:8080/",
     "height": 34
    },
    "colab_type": "code",
    "id": "PyCmqHRcl1Fe",
    "outputId": "39df8460-b844-434a-d0ce-384648f13649"
   },
   "outputs": [],
   "source": [
    "print(\"Accuracy: \", 100-MAPE,\"%\")"
   ]
  },
  {
   "cell_type": "markdown",
   "metadata": {
    "colab_type": "text",
    "id": "NXmGO28ul1Fg"
   },
   "source": [
    "### A recurrent neural network, Long Short-Term Memory network (LSTM)"
   ]
  },
  {
   "cell_type": "code",
   "execution_count": null,
   "metadata": {
    "colab": {
     "base_uri": "https://localhost:8080/",
     "height": 34
    },
    "colab_type": "code",
    "id": "4fm8nJacl1Fi",
    "outputId": "f9569f28-2276-41ec-85e7-1faab5f6e51b"
   },
   "outputs": [],
   "source": [
    "# number of inputs and number of features\n",
    "n_input = n_steps \n",
    "n_features = 1 \n",
    "generator = TimeseriesGenerator(normal_train,normal_train,length = n_input,batch_size=1)\n",
    "\n",
    "# number of samples\n",
    "print('Samples: %d' % len(generator))"
   ]
  },
  {
   "cell_type": "code",
   "execution_count": null,
   "metadata": {
    "colab": {},
    "colab_type": "code",
    "id": "oqHrXl8ll1Fj"
   },
   "outputs": [],
   "source": [
    "# A recurrent neural network (LSTM) model with two hidden layers containing 150+75 nodes\n",
    "\n",
    "#from keras.models import Sequential\n",
    "from keras.layers import Dense, LSTM, Dropout, Activation\n",
    "\n",
    "model = Sequential()\n",
    "model.add(LSTM(150,activation=\"relu\",input_shape=(n_input,n_features)))\n",
    "model.add(Dense(75, activation='relu'))\n",
    "model.add(Dense(units=1))\n",
    "model.compile(optimizer=\"adam\",loss=\"mse\")"
   ]
  },
  {
   "cell_type": "code",
   "execution_count": null,
   "metadata": {
    "colab": {
     "base_uri": "https://localhost:8080/",
     "height": 255
    },
    "colab_type": "code",
    "id": "4iX7L_Zkl1Fl",
    "outputId": "1d28df68-ba4a-4c7d-b2fc-5cc0fb5871e9"
   },
   "outputs": [],
   "source": [
    "model.summary()"
   ]
  },
  {
   "cell_type": "code",
   "execution_count": null,
   "metadata": {
    "colab": {
     "base_uri": "https://localhost:8080/",
     "height": 204
    },
    "colab_type": "code",
    "id": "vpPcBzAxl1Fn",
    "outputId": "10b37d2c-f4d7-431e-d898-c0a50e205cd5"
   },
   "outputs": [],
   "source": [
    "validation_set = np.append(normal_train[-1],normal_test)\n",
    "validation_set=validation_set.reshape(11,1)\n",
    "validation_set"
   ]
  },
  {
   "cell_type": "code",
   "execution_count": null,
   "metadata": {
    "colab": {},
    "colab_type": "code",
    "id": "uzNl1gz3l1Fo"
   },
   "outputs": [],
   "source": [
    "n_input = n_steps\n",
    "n_features = 1\n",
    "validation_gen = TimeseriesGenerator(validation_set,validation_set,length = n_input,batch_size=1)"
   ]
  },
  {
   "cell_type": "code",
   "execution_count": null,
   "metadata": {
    "colab": {
     "base_uri": "https://localhost:8080/",
     "height": 1000
    },
    "colab_type": "code",
    "id": "CMCj6G8wl1Fq",
    "outputId": "4ef6029a-ec4a-4f9f-dba5-1864e2ce9890"
   },
   "outputs": [],
   "source": [
    "# fit model\n",
    "model.fit_generator(generator,validation_data=validation_gen,epochs=200,callbacks=[early_stop],steps_per_epoch=10)\n",
    "#model.fit_generator(generator,validation_data=validation_gen,epochs=500,callbacks=[early_stop],steps_per_epoch=1)"
   ]
  },
  {
   "cell_type": "code",
   "execution_count": null,
   "metadata": {
    "colab": {
     "base_uri": "https://localhost:8080/",
     "height": 298
    },
    "colab_type": "code",
    "id": "8keFrIBjl1Fw",
    "outputId": "6fd32574-3f40-4f11-ab47-ec0df38e62bf"
   },
   "outputs": [],
   "source": [
    "pd.DataFrame(model.history.history).plot(title=\"Loss vs epochs curve\")"
   ]
  },
  {
   "cell_type": "code",
   "execution_count": null,
   "metadata": {
    "colab": {
     "base_uri": "https://localhost:8080/",
     "height": 34
    },
    "colab_type": "code",
    "id": "9pHfKGdwl1Fz",
    "outputId": "daf5064d-e84d-4c39-ea21-381657da9b50"
   },
   "outputs": [],
   "source": [
    "model.history.history.keys()"
   ]
  },
  {
   "cell_type": "code",
   "execution_count": null,
   "metadata": {
    "colab": {
     "base_uri": "https://localhost:8080/",
     "height": 298
    },
    "colab_type": "code",
    "id": "w_LADIUrl1F2",
    "outputId": "a7263325-a8d9-4013-ff5a-22ef5d9914df"
   },
   "outputs": [],
   "source": [
    "loss_1 = model.history.history[\"val_loss\"]\n",
    "plt.title(\"Validation loss vs epochs\")\n",
    "plt.plot(range(len(loss_1)),loss_1)"
   ]
  },
  {
   "cell_type": "code",
   "execution_count": null,
   "metadata": {
    "colab": {
     "base_uri": "https://localhost:8080/",
     "height": 298
    },
    "colab_type": "code",
    "id": "rT-wiQcUl1F4",
    "outputId": "2f2ec958-2e86-4286-ab94-15500d28bbf0"
   },
   "outputs": [],
   "source": [
    "loss_1 = model.history.history[\"loss\"]\n",
    "plt.title(\"Training loss vs epochs\")\n",
    "plt.plot(range(len(loss_1)),loss_1)"
   ]
  },
  {
   "cell_type": "code",
   "execution_count": null,
   "metadata": {
    "colab": {
     "base_uri": "https://localhost:8080/",
     "height": 34
    },
    "colab_type": "code",
    "id": "OO4G0Gq0l1F7",
    "outputId": "3d662b92-7934-4866-ed5f-d4f4607fb4aa"
   },
   "outputs": [],
   "source": [
    "# list of predictions\n",
    "test_prediction = []\n",
    "\n",
    "#last `n_input` points from training set\n",
    "current_batch = normal_train[-n_input:].reshape(1,n_input,n_features)\n",
    "\n",
    "current_batch.shape"
   ]
  },
  {
   "cell_type": "code",
   "execution_count": null,
   "metadata": {
    "colab": {
     "base_uri": "https://localhost:8080/",
     "height": 306
    },
    "colab_type": "code",
    "id": "mwfKf0vtl1GC",
    "outputId": "eabbea98-9d84-4701-be47-4331aebf42b1"
   },
   "outputs": [],
   "source": [
    "# forecast the number of Deaths cases in Iran for validation set and the next 7 days\n",
    "\n",
    "for i in range(n_steps+7):\n",
    "    current_pred = model.predict(current_batch)[0]\n",
    "    test_prediction.append(current_pred)\n",
    "    current_batch = np.append(current_batch[:,1:,:],[[current_pred]],axis=1)\n",
    "\n",
    "test_prediction"
   ]
  },
  {
   "cell_type": "code",
   "execution_count": null,
   "metadata": {
    "colab": {
     "base_uri": "https://localhost:8080/",
     "height": 102
    },
    "colab_type": "code",
    "id": "r1D1iHJ9l1GF",
    "outputId": "36f20a7a-c3c4-48b5-b79b-5e6d535cfc56"
   },
   "outputs": [],
   "source": [
    "# apply inverse transformations on scaled data\n",
    "true_prediction = normal.inverse_transform(test_prediction)\n",
    "true_prediction[:,0]"
   ]
  },
  {
   "cell_type": "code",
   "execution_count": null,
   "metadata": {
    "colab": {
     "base_uri": "https://localhost:8080/",
     "height": 51
    },
    "colab_type": "code",
    "id": "Bqzn2Z75l1GK",
    "outputId": "39e4746c-9c79-45d5-e313-5667dccb4208"
   },
   "outputs": [],
   "source": [
    "# number of days in future considered to forecast\n",
    "future_days = 7\n",
    "\n",
    "# first date of test\n",
    "first_date = iran_df1.iloc[train_size:]['Date'].tolist()[0]\n",
    "first_date=pd.to_datetime(first_date)\n",
    "print(type(first_date))\n",
    "# find dates related to days from start of test set to future\n",
    "dates_first_to_futures = pd.Series([(first_date + timedelta(days=i)) for i in range(n_steps+7)])\n",
    "print(dates_first_to_futures.shape)"
   ]
  },
  {
   "cell_type": "code",
   "execution_count": null,
   "metadata": {
    "colab": {
     "base_uri": "https://localhost:8080/",
     "height": 576
    },
    "colab_type": "code",
    "id": "4UV-G04dl1GR",
    "outputId": "4fb428df-486a-4995-effc-db112cf3e2fe"
   },
   "outputs": [],
   "source": [
    "prediction_df = pd.DataFrame(columns=[\"Deaths\",\"Deaths_predicted\"],index=dates_first_to_futures)\n",
    "\n",
    "prediction_df.loc[:,\"Deaths_predicted\"] = true_prediction[:,0]\n",
    "test_set=iran_df1.iloc[train_size:]['Deaths'].values.tolist()\n",
    "prediction_df.loc[:n_steps,\"Deaths\"] = iran_df1.iloc[train_size:]['Deaths'].values.tolist()\n",
    "prediction_df"
   ]
  },
  {
   "cell_type": "code",
   "execution_count": null,
   "metadata": {
    "colab": {
     "base_uri": "https://localhost:8080/",
     "height": 322
    },
    "colab_type": "code",
    "id": "3XAzi1Nzl1GT",
    "outputId": "67f7ffa6-3cb5-470e-a957-4a723332b7ff"
   },
   "outputs": [],
   "source": [
    "prediction_df.plot(title=\"Iran Predictions for next 7 days-LSTM\")"
   ]
  },
  {
   "cell_type": "code",
   "execution_count": null,
   "metadata": {
    "colab": {
     "base_uri": "https://localhost:8080/",
     "height": 34
    },
    "colab_type": "code",
    "id": "abrX_FvUl1GV",
    "outputId": "5d092475-ce4a-4209-ecfb-5134bb3ee7d7"
   },
   "outputs": [],
   "source": [
    "MAPE = np.mean(np.abs(np.array(prediction_df[\"Deaths\"][:n_steps]) -\\\n",
    "                      np.array(prediction_df[\"Deaths_predicted\"][:n_steps]))/np.array(prediction_df[\"Deaths\"][:n_steps]))\n",
    "print(\"MAPE is \",MAPE*100,\" %\")"
   ]
  },
  {
   "cell_type": "code",
   "execution_count": null,
   "metadata": {
    "colab": {
     "base_uri": "https://localhost:8080/",
     "height": 34
    },
    "colab_type": "code",
    "id": "d5p8tV7jl1GZ",
    "outputId": "93a671ab-a4b4-4960-d643-1cdbb7c5ea00"
   },
   "outputs": [],
   "source": [
    "print(\"Accuracy: \", 100-MAPE,\"%\")"
   ]
  },
  {
   "cell_type": "markdown",
   "metadata": {
    "colab_type": "text",
    "id": "CW_ecMmlrbU-"
   },
   "source": [
    "## Prediction of confirmed cases of the world using MLP and LSTM-RNN"
   ]
  },
  {
   "cell_type": "code",
   "execution_count": null,
   "metadata": {
    "colab": {
     "base_uri": "https://localhost:8080/",
     "height": 204
    },
    "colab_type": "code",
    "id": "ucV3ZVSZrbVA",
    "outputId": "1de1202d-8015-4a2c-872a-9cac2f2ee3e3"
   },
   "outputs": [],
   "source": [
    "c_world1=c_world[['Date','Confirmed']].copy().loc[:]\n",
    "c_world1.head()"
   ]
  },
  {
   "cell_type": "code",
   "execution_count": null,
   "metadata": {
    "colab": {
     "base_uri": "https://localhost:8080/",
     "height": 34
    },
    "colab_type": "code",
    "id": "9Da_P-jNrbVD",
    "outputId": "fab1001b-f8f7-4ff2-c6b5-e3948498f64a"
   },
   "outputs": [],
   "source": [
    "len(c_world1)"
   ]
  },
  {
   "cell_type": "code",
   "execution_count": null,
   "metadata": {
    "colab": {
     "base_uri": "https://localhost:8080/",
     "height": 34
    },
    "colab_type": "code",
    "id": "ROid_7WLrbVF",
    "outputId": "a10cf63c-cc17-4756-9bd4-8dbdb3825d38"
   },
   "outputs": [],
   "source": [
    "# the size of the validation set (number of steps), i.e taking `n_steps` data points to predict `n_steps+1`th data point\n",
    "#The batches would be [feed=[t_1,...,t_{n_steps}],predict=tt_{n_steps+1}].\n",
    "\n",
    "n_steps=10\n",
    "\n",
    "#n_steps=5\n",
    "\n",
    "# training set size\n",
    "train_size=len(c_world1)-n_steps\n",
    "\n",
    "conf=c_world1['Confirmed'].values.reshape(-1,1)\n",
    "\n",
    "# split training and test set\n",
    "train = conf[:train_size]#['Confirmed'].values.reshape(-1,1)\n",
    "test = conf[train_size:]#['Confirmed'].values.reshape(-1,1)\n",
    "\n",
    "# scaling the data since the data is too skewed\n",
    "normal = MinMaxScaler()\n",
    "\n",
    "normal = normal.fit(train)\n",
    "\n",
    "normal_train = normal.transform(train)\n",
    "normal_test = normal.transform(test)\n",
    "\n",
    "len(normal_train)"
   ]
  },
  {
   "cell_type": "code",
   "execution_count": null,
   "metadata": {
    "colab": {
     "base_uri": "https://localhost:8080/",
     "height": 187
    },
    "colab_type": "code",
    "id": "uFYYqM0KrbVH",
    "outputId": "c0123629-6eaa-4f2f-8e0c-33977f6baff0"
   },
   "outputs": [],
   "source": [
    "normal_test"
   ]
  },
  {
   "cell_type": "markdown",
   "metadata": {
    "colab_type": "text",
    "id": "CA8xM_egrbVJ"
   },
   "source": [
    "### Multilayer Perceptron (MLP)"
   ]
  },
  {
   "cell_type": "code",
   "execution_count": null,
   "metadata": {
    "colab": {},
    "colab_type": "code",
    "id": "lQEHS64zrbVJ"
   },
   "outputs": [],
   "source": [
    "from keras.preprocessing.sequence import TimeseriesGenerator"
   ]
  },
  {
   "cell_type": "code",
   "execution_count": null,
   "metadata": {
    "colab": {
     "base_uri": "https://localhost:8080/",
     "height": 51
    },
    "colab_type": "code",
    "id": "-YDtriuerbVP",
    "outputId": "b0f3d815-eaee-44bc-c82b-5d939e3efccc"
   },
   "outputs": [],
   "source": [
    "# number of inputs and number of features\n",
    "n_input = n_steps \n",
    "print(n_input)\n",
    "n_features = 1 \n",
    "generator = TimeseriesGenerator(normal_train,normal_train,length = n_input,batch_size=1)\n",
    "\n",
    "# number of samples\n",
    "print('Samples: %d' % len(generator))"
   ]
  },
  {
   "cell_type": "code",
   "execution_count": null,
   "metadata": {
    "colab": {
     "base_uri": "https://localhost:8080/",
     "height": 357
    },
    "colab_type": "code",
    "id": "jJkZ3Ty1rbVQ",
    "outputId": "6eb84ea6-f984-4f4a-899e-299bc6e445bf"
   },
   "outputs": [],
   "source": [
    "for i in range(len(generator)-2,len(generator)):\n",
    "    x, y = generator[i]\n",
    "    print('%s => %s' % (x, y))"
   ]
  },
  {
   "cell_type": "code",
   "execution_count": null,
   "metadata": {
    "colab": {},
    "colab_type": "code",
    "id": "Bwt30DeDrbVS"
   },
   "outputs": [],
   "source": [
    "# good estimation: input_neuron=3/2*num_hidden*num_input--->3/2x1x(len(df)-n_steps-batch_size)"
   ]
  },
  {
   "cell_type": "code",
   "execution_count": null,
   "metadata": {
    "colab": {
     "base_uri": "https://localhost:8080/",
     "height": 255
    },
    "colab_type": "code",
    "id": "nEW7aHvHrbVX",
    "outputId": "7ff4f248-f8db-46ed-97d6-fbc8841fca43"
   },
   "outputs": [],
   "source": [
    "# Multilayer Perceptron (MLP) model with one hidden layer\n",
    "\n",
    "from keras.models import Sequential\n",
    "from keras.layers import Dense, Activation,Flatten\n",
    "\n",
    "model = Sequential()\n",
    "model.add(Dense(200, activation='relu',input_shape=(n_input,n_features)))\n",
    "model.add(Flatten())\n",
    "model.add(Dense(units=1))\n",
    "model.compile(optimizer='adam', loss='mse')\n",
    "\n",
    "model.summary()"
   ]
  },
  {
   "cell_type": "code",
   "execution_count": null,
   "metadata": {
    "colab": {
     "base_uri": "https://localhost:8080/",
     "height": 204
    },
    "colab_type": "code",
    "id": "h9p8A6LnrbVa",
    "outputId": "0795fbd4-4a5f-4cca-e79f-1d41a81afbfa"
   },
   "outputs": [],
   "source": [
    "validation_set = np.append(normal_train[-1],normal_test)\n",
    "validation_set=validation_set.reshape(n_steps+1,1)\n",
    "validation_set"
   ]
  },
  {
   "cell_type": "code",
   "execution_count": null,
   "metadata": {
    "colab": {},
    "colab_type": "code",
    "id": "nfR50z1GrbVc"
   },
   "outputs": [],
   "source": [
    "n_input = n_steps\n",
    "n_features = 1\n",
    "validation_gen = TimeseriesGenerator(validation_set,validation_set,length = n_input,batch_size=1)"
   ]
  },
  {
   "cell_type": "code",
   "execution_count": null,
   "metadata": {
    "colab": {
     "base_uri": "https://localhost:8080/",
     "height": 1000
    },
    "colab_type": "code",
    "id": "fo0ZxreorbVg",
    "outputId": "dacbf2e1-80cd-41fc-8d33-d45fba6eabad"
   },
   "outputs": [],
   "source": [
    "from tensorflow.keras.callbacks import EarlyStopping\n",
    "early_stop = EarlyStopping(monitor='val_loss',patience=20,restore_best_weights=True)\n",
    "\n",
    "# fit model\n",
    "model.fit_generator(generator,validation_data=validation_gen,epochs=200,callbacks=[early_stop],steps_per_epoch=10)"
   ]
  },
  {
   "cell_type": "code",
   "execution_count": null,
   "metadata": {
    "colab": {
     "base_uri": "https://localhost:8080/",
     "height": 298
    },
    "colab_type": "code",
    "id": "BMSdUR5RrbVj",
    "outputId": "0d4a2f56-ec19-4574-a90b-181187b18cb9"
   },
   "outputs": [],
   "source": [
    "pd.DataFrame(model.history.history).plot(title=\"Loss vs epochs curve\")"
   ]
  },
  {
   "cell_type": "code",
   "execution_count": null,
   "metadata": {
    "colab": {
     "base_uri": "https://localhost:8080/",
     "height": 34
    },
    "colab_type": "code",
    "id": "jBKcoJ_TrbVl",
    "outputId": "6ef47380-2954-4aa4-9adc-0a3291cd7b13"
   },
   "outputs": [],
   "source": [
    "model.history.history.keys()"
   ]
  },
  {
   "cell_type": "code",
   "execution_count": null,
   "metadata": {
    "colab": {
     "base_uri": "https://localhost:8080/",
     "height": 298
    },
    "colab_type": "code",
    "id": "IQ7_fGCVrbVm",
    "outputId": "3187ffb8-3e02-47a3-d4f8-f41e5e3eac38"
   },
   "outputs": [],
   "source": [
    "loss_1 = model.history.history[\"val_loss\"]\n",
    "plt.title(\"Validation loss vs epochs\")\n",
    "plt.plot(range(len(loss_1)),loss_1)"
   ]
  },
  {
   "cell_type": "code",
   "execution_count": null,
   "metadata": {
    "colab": {
     "base_uri": "https://localhost:8080/",
     "height": 298
    },
    "colab_type": "code",
    "id": "4RWKM9aRrbVr",
    "outputId": "b0aa7d24-b396-4fd2-fe04-b7bfafdc8708"
   },
   "outputs": [],
   "source": [
    "loss_1 = model.history.history[\"loss\"]\n",
    "plt.title(\"Training loss vs epochs\")\n",
    "plt.plot(range(len(loss_1)),loss_1)"
   ]
  },
  {
   "cell_type": "code",
   "execution_count": null,
   "metadata": {
    "colab": {
     "base_uri": "https://localhost:8080/",
     "height": 34
    },
    "colab_type": "code",
    "id": "VBRIKJVFrbVy",
    "outputId": "1c8d290b-e06f-496a-a61e-e03a21b4dc17"
   },
   "outputs": [],
   "source": [
    "# list of predictions\n",
    "test_prediction = []\n",
    "\n",
    "#last `n_input` points from training set\n",
    "current_batch = normal_train[-n_input:].reshape(1,n_input,n_features)\n",
    "\n",
    "current_batch.shape"
   ]
  },
  {
   "cell_type": "code",
   "execution_count": null,
   "metadata": {
    "colab": {
     "base_uri": "https://localhost:8080/",
     "height": 306
    },
    "colab_type": "code",
    "id": "XNxd5MLqrbV4",
    "outputId": "c92e3fdb-7e57-4d96-f8f7-904c09970e54"
   },
   "outputs": [],
   "source": [
    "# forecast the number of confirmed cases in world for validation set and the next 7 days\n",
    "\n",
    "for i in range(n_steps+7):\n",
    "    current_pred = model.predict(current_batch)[0]\n",
    "    test_prediction.append(current_pred)\n",
    "    current_batch = np.append(current_batch[:,1:,:],[[current_pred]],axis=1)\n",
    "\n",
    "test_prediction"
   ]
  },
  {
   "cell_type": "code",
   "execution_count": null,
   "metadata": {
    "colab": {
     "base_uri": "https://localhost:8080/",
     "height": 119
    },
    "colab_type": "code",
    "id": "sHzkRhtErbV6",
    "outputId": "f5ff540d-1742-4f24-a264-95cbc6c72552"
   },
   "outputs": [],
   "source": [
    "# apply inverse transformations on scaled data\n",
    "true_prediction = normal.inverse_transform(test_prediction)\n",
    "true_prediction[:,0]"
   ]
  },
  {
   "cell_type": "code",
   "execution_count": null,
   "metadata": {
    "colab": {
     "base_uri": "https://localhost:8080/",
     "height": 51
    },
    "colab_type": "code",
    "id": "99xy6Fa2rbV8",
    "outputId": "2f61d161-cdc3-4226-d16d-570c8c909631"
   },
   "outputs": [],
   "source": [
    "# number of days in future considered to forecast\n",
    "future_days = 7\n",
    "\n",
    "# first date of test\n",
    "first_date = c_world1.iloc[train_size:]['Date'].tolist()[0]\n",
    "first_date=pd.to_datetime(first_date)\n",
    "print(type(first_date))\n",
    "# find dates related to days from start of test set to future\n",
    "dates_first_to_futures = pd.Series([(first_date + timedelta(days=i)) for i in range(n_steps+7)])\n",
    "print(dates_first_to_futures.shape)"
   ]
  },
  {
   "cell_type": "code",
   "execution_count": null,
   "metadata": {
    "colab": {
     "base_uri": "https://localhost:8080/",
     "height": 576
    },
    "colab_type": "code",
    "id": "acs45HY9rbWB",
    "outputId": "20d2926e-09cd-41eb-f28c-eac323db6a94"
   },
   "outputs": [],
   "source": [
    "prediction_df = pd.DataFrame(columns=[\"Confirmed\",\"Confirmed_predicted\"],index=dates_first_to_futures)\n",
    "\n",
    "prediction_df.loc[:,\"Confirmed_predicted\"] = true_prediction[:,0]\n",
    "test_set=c_world1.iloc[train_size:]['Confirmed'].values.tolist()\n",
    "prediction_df.loc[:n_steps,\"Confirmed\"] = c_world1.iloc[train_size:]['Confirmed'].values.tolist()\n",
    "prediction_df"
   ]
  },
  {
   "cell_type": "code",
   "execution_count": null,
   "metadata": {
    "colab": {
     "base_uri": "https://localhost:8080/",
     "height": 322
    },
    "colab_type": "code",
    "id": "Ta0FuA9IrbWD",
    "outputId": "de183cec-2874-41dd-a78a-ca14646bc07a"
   },
   "outputs": [],
   "source": [
    "prediction_df.plot(title=\"World Predictions for next 7 days-MLP\")"
   ]
  },
  {
   "cell_type": "code",
   "execution_count": null,
   "metadata": {
    "colab": {
     "base_uri": "https://localhost:8080/",
     "height": 34
    },
    "colab_type": "code",
    "id": "hL-ZGi6KrbWE",
    "outputId": "c3b3f6b6-f34c-45cb-e64a-bef1eeddb626"
   },
   "outputs": [],
   "source": [
    "MAPE = np.mean(np.abs(np.array(prediction_df[\"Confirmed\"][:n_steps]) -\\\n",
    "                      np.array(prediction_df[\"Confirmed_predicted\"][:n_steps]))/np.array(prediction_df[\"Confirmed\"][:n_steps]))\n",
    "print(\"MAPE is \",MAPE*100,\" %\")"
   ]
  },
  {
   "cell_type": "code",
   "execution_count": null,
   "metadata": {
    "colab": {
     "base_uri": "https://localhost:8080/",
     "height": 34
    },
    "colab_type": "code",
    "id": "BkpmSnbWrbWI",
    "outputId": "0381b55e-9d67-45ca-d0fe-7b377393af59"
   },
   "outputs": [],
   "source": [
    "print(\"Accuracy: \", 100-MAPE,\"%\")"
   ]
  },
  {
   "cell_type": "markdown",
   "metadata": {
    "colab_type": "text",
    "id": "Tpm_38WjrbWK"
   },
   "source": [
    "### A recurrent neural network, Long Short-Term Memory network (LSTM)"
   ]
  },
  {
   "cell_type": "code",
   "execution_count": null,
   "metadata": {
    "colab": {
     "base_uri": "https://localhost:8080/",
     "height": 34
    },
    "colab_type": "code",
    "id": "2nL7oyXprbWP",
    "outputId": "c40cec38-b7a5-4a11-eb77-c3fdd12815ea"
   },
   "outputs": [],
   "source": [
    "# number of inputs and number of features\n",
    "n_input = n_steps \n",
    "n_features = 1 \n",
    "generator = TimeseriesGenerator(normal_train,normal_train,length = n_input,batch_size=1)\n",
    "\n",
    "# number of samples\n",
    "print('Samples: %d' % len(generator))"
   ]
  },
  {
   "cell_type": "code",
   "execution_count": null,
   "metadata": {
    "colab": {
     "base_uri": "https://localhost:8080/",
     "height": 255
    },
    "colab_type": "code",
    "id": "-H1kfjQUrbWY",
    "outputId": "0e7877f8-cc88-4976-bade-3c412916d0ac"
   },
   "outputs": [],
   "source": [
    "# A recurrent neural network (LSTM) model with two hidden layers containing 150+75 nodes\n",
    "\n",
    "from keras.layers import Dense, LSTM, Dropout, Activation\n",
    "\n",
    "model = Sequential()\n",
    "model.add(LSTM(150,activation=\"relu\",input_shape=(n_input,n_features)))\n",
    "model.add(Dense(75, activation='relu'))\n",
    "model.add(Dense(units=1))\n",
    "model.compile(optimizer=\"adam\",loss=\"mse\")\n",
    "\n",
    "model.summary()"
   ]
  },
  {
   "cell_type": "code",
   "execution_count": null,
   "metadata": {
    "colab": {
     "base_uri": "https://localhost:8080/",
     "height": 204
    },
    "colab_type": "code",
    "id": "AbCWeYOIrbWa",
    "outputId": "2a038938-9278-4a37-ca99-8dcc43ebdced"
   },
   "outputs": [],
   "source": [
    "validation_set = np.append(normal_train[-1],normal_test)\n",
    "validation_set=validation_set.reshape(11,1)\n",
    "validation_set"
   ]
  },
  {
   "cell_type": "code",
   "execution_count": null,
   "metadata": {
    "colab": {},
    "colab_type": "code",
    "id": "9XFawNlkrbWb"
   },
   "outputs": [],
   "source": [
    "n_input = n_steps\n",
    "n_features = 1\n",
    "validation_gen = TimeseriesGenerator(validation_set,validation_set,length = n_input,batch_size=1)"
   ]
  },
  {
   "cell_type": "code",
   "execution_count": null,
   "metadata": {
    "colab": {
     "base_uri": "https://localhost:8080/",
     "height": 1000
    },
    "colab_type": "code",
    "id": "0tNedcJ7rbWd",
    "outputId": "8e15b0d1-d73a-4bb6-8440-8fb449a9cddf"
   },
   "outputs": [],
   "source": [
    "# fit model\n",
    "model.fit_generator(generator,validation_data=validation_gen,epochs=200,callbacks=[early_stop],steps_per_epoch=10)\n",
    "#model.fit_generator(generator,validation_data=validation_gen,epochs=500,callbacks=[early_stop],steps_per_epoch=1)"
   ]
  },
  {
   "cell_type": "code",
   "execution_count": null,
   "metadata": {
    "colab": {
     "base_uri": "https://localhost:8080/",
     "height": 298
    },
    "colab_type": "code",
    "id": "qVInp3JurbWf",
    "outputId": "6e53603d-30b8-4d4b-f968-f7313ce014c4"
   },
   "outputs": [],
   "source": [
    "pd.DataFrame(model.history.history).plot(title=\"Loss vs epochs curve\")"
   ]
  },
  {
   "cell_type": "code",
   "execution_count": null,
   "metadata": {
    "colab": {
     "base_uri": "https://localhost:8080/",
     "height": 34
    },
    "colab_type": "code",
    "id": "p_niN8GFrbWi",
    "outputId": "1b1a895f-a565-4852-9ab0-6f713d75cf74"
   },
   "outputs": [],
   "source": [
    "model.history.history.keys()"
   ]
  },
  {
   "cell_type": "code",
   "execution_count": null,
   "metadata": {
    "colab": {
     "base_uri": "https://localhost:8080/",
     "height": 298
    },
    "colab_type": "code",
    "id": "FjFV5QlRrbWk",
    "outputId": "207f3df0-e5d5-43ce-df6e-dc292c212a64"
   },
   "outputs": [],
   "source": [
    "loss_1 = model.history.history[\"val_loss\"]\n",
    "plt.title(\"Validation loss vs epochs\")\n",
    "plt.plot(range(len(loss_1)),loss_1)"
   ]
  },
  {
   "cell_type": "code",
   "execution_count": null,
   "metadata": {
    "colab": {
     "base_uri": "https://localhost:8080/",
     "height": 298
    },
    "colab_type": "code",
    "id": "mR5WjNqdrbWm",
    "outputId": "18aafad7-595b-42b7-93f7-a21ae9718ad4"
   },
   "outputs": [],
   "source": [
    "loss_1 = model.history.history[\"loss\"]\n",
    "plt.title(\"Training loss vs epochs\")\n",
    "plt.plot(range(len(loss_1)),loss_1)"
   ]
  },
  {
   "cell_type": "code",
   "execution_count": null,
   "metadata": {
    "colab": {
     "base_uri": "https://localhost:8080/",
     "height": 34
    },
    "colab_type": "code",
    "id": "O-72fV1DrbWp",
    "outputId": "a7a05d73-03ea-4f4c-f443-dae762e1844d"
   },
   "outputs": [],
   "source": [
    "# list of predictions\n",
    "test_prediction = []\n",
    "\n",
    "#last `n_input` points from training set\n",
    "current_batch = normal_train[-n_input:].reshape(1,n_input,n_features)\n",
    "\n",
    "current_batch.shape"
   ]
  },
  {
   "cell_type": "code",
   "execution_count": null,
   "metadata": {
    "colab": {
     "base_uri": "https://localhost:8080/",
     "height": 306
    },
    "colab_type": "code",
    "id": "Fdpx8P-crbWs",
    "outputId": "53cbf798-53e7-499d-eb2c-6a8c57031a3b"
   },
   "outputs": [],
   "source": [
    "# forecast the number of Confirmed cases in world for validation set and the next 7 days\n",
    "\n",
    "for i in range(n_steps+7):\n",
    "    current_pred = model.predict(current_batch)[0]\n",
    "    test_prediction.append(current_pred)\n",
    "    current_batch = np.append(current_batch[:,1:,:],[[current_pred]],axis=1)\n",
    "\n",
    "test_prediction"
   ]
  },
  {
   "cell_type": "code",
   "execution_count": null,
   "metadata": {
    "colab": {
     "base_uri": "https://localhost:8080/",
     "height": 119
    },
    "colab_type": "code",
    "id": "cLpFPwqjrbWv",
    "outputId": "8bace766-088f-418e-8ea8-0b46b4b89cca"
   },
   "outputs": [],
   "source": [
    "# apply inverse transformations on scaled data\n",
    "true_prediction = normal.inverse_transform(test_prediction)\n",
    "true_prediction[:,0]"
   ]
  },
  {
   "cell_type": "code",
   "execution_count": null,
   "metadata": {
    "colab": {
     "base_uri": "https://localhost:8080/",
     "height": 51
    },
    "colab_type": "code",
    "id": "eDmGaV_wrbWx",
    "outputId": "62dbe090-ece2-4eab-bf3d-484fa3bbeeb9"
   },
   "outputs": [],
   "source": [
    "# number of days in future considered to forecast\n",
    "future_days = 7\n",
    "\n",
    "# first date of test\n",
    "first_date = c_world1.iloc[train_size:]['Date'].tolist()[0]\n",
    "first_date=pd.to_datetime(first_date)\n",
    "print(type(first_date))\n",
    "# find dates related to days from start of test set to future\n",
    "dates_first_to_futures = pd.Series([(first_date + timedelta(days=i)) for i in range(n_steps+7)])\n",
    "print(dates_first_to_futures.shape)"
   ]
  },
  {
   "cell_type": "code",
   "execution_count": null,
   "metadata": {
    "colab": {
     "base_uri": "https://localhost:8080/",
     "height": 576
    },
    "colab_type": "code",
    "id": "7RGVnW8qrbW1",
    "outputId": "c1113451-9606-4a1f-cb1a-8e8413313a2e"
   },
   "outputs": [],
   "source": [
    "prediction_df = pd.DataFrame(columns=[\"Confirmed\",\"Confirmed_predicted\"],index=dates_first_to_futures)\n",
    "\n",
    "prediction_df.loc[:,\"Confirmed_predicted\"] = true_prediction[:,0]\n",
    "test_set=c_world1.iloc[train_size:]['Confirmed'].values.tolist()\n",
    "prediction_df.loc[:n_steps,\"Confirmed\"] = c_world1.iloc[train_size:]['Confirmed'].values.tolist()\n",
    "prediction_df"
   ]
  },
  {
   "cell_type": "code",
   "execution_count": null,
   "metadata": {
    "colab": {
     "base_uri": "https://localhost:8080/",
     "height": 322
    },
    "colab_type": "code",
    "id": "N8J997lnrbW2",
    "outputId": "3711cc32-a637-4429-99d3-015c842e08a9"
   },
   "outputs": [],
   "source": [
    "prediction_df.plot(title=\"World Predictions for next 7 days-LSTM\")"
   ]
  },
  {
   "cell_type": "code",
   "execution_count": null,
   "metadata": {
    "colab": {
     "base_uri": "https://localhost:8080/",
     "height": 34
    },
    "colab_type": "code",
    "id": "tggBWmF1rbW4",
    "outputId": "2cd67483-f3fc-490a-c7ad-c4d3f15ad9b0"
   },
   "outputs": [],
   "source": [
    "MAPE = np.mean(np.abs(np.array(prediction_df[\"Confirmed\"][:n_steps]) -\\\n",
    "                      np.array(prediction_df[\"Confirmed_predicted\"][:n_steps]))/np.array(prediction_df[\"Confirmed\"][:n_steps]))\n",
    "print(\"MAPE is \",MAPE*100,\" %\")"
   ]
  },
  {
   "cell_type": "code",
   "execution_count": null,
   "metadata": {
    "colab": {
     "base_uri": "https://localhost:8080/",
     "height": 34
    },
    "colab_type": "code",
    "id": "amiOdH1yrbW5",
    "outputId": "1c4c87ba-dc94-4802-8080-43405d04cf1c"
   },
   "outputs": [],
   "source": [
    "print(\"Accuracy: \", 100-MAPE,\"%\")"
   ]
  },
  {
   "cell_type": "markdown",
   "metadata": {
    "colab_type": "text",
    "id": "qMLfZb5RuPfG"
   },
   "source": [
    "## Prediction of deaths of the world using MLP and LSTM-RNN"
   ]
  },
  {
   "cell_type": "code",
   "execution_count": null,
   "metadata": {
    "colab": {
     "base_uri": "https://localhost:8080/",
     "height": 204
    },
    "colab_type": "code",
    "id": "jmpoxqUxuPfM",
    "outputId": "cac29d27-673d-4121-d024-9319fb03b65b"
   },
   "outputs": [],
   "source": [
    "c_world1=c_world[['Date','Deaths']].copy().loc[:]\n",
    "c_world1.head()"
   ]
  },
  {
   "cell_type": "code",
   "execution_count": null,
   "metadata": {
    "colab": {
     "base_uri": "https://localhost:8080/",
     "height": 34
    },
    "colab_type": "code",
    "id": "INblD6kRuPfT",
    "outputId": "ca64552f-b1f9-43f2-c048-db3f86ea9399"
   },
   "outputs": [],
   "source": [
    "len(covid19_world1)"
   ]
  },
  {
   "cell_type": "code",
   "execution_count": null,
   "metadata": {
    "colab": {
     "base_uri": "https://localhost:8080/",
     "height": 34
    },
    "colab_type": "code",
    "id": "9AaC1RUnuPfV",
    "outputId": "3d670a4f-7d26-471f-91b3-50fc3a144108"
   },
   "outputs": [],
   "source": [
    "# the size of the validation set (number of steps), i.e taking `n_steps` data points to predict `n_steps+1`th data point\n",
    "#The batches would be [feed=[t_1,...,t_{n_steps}],predict=tt_{n_steps+1}].\n",
    "\n",
    "n_steps=10\n",
    "\n",
    "#n_steps=5\n",
    "\n",
    "# training set size\n",
    "train_size=len(c_world1)-n_steps\n",
    "\n",
    "conf=c_world1['Deaths'].values.reshape(-1,1)\n",
    "\n",
    "# split training and test set\n",
    "train = conf[:train_size]#['Deaths'].values.reshape(-1,1)\n",
    "test = conf[train_size:]#['Deaths'].values.reshape(-1,1)\n",
    "\n",
    "# scaling the data since the data is too skewed\n",
    "normal = MinMaxScaler()\n",
    "\n",
    "normal = normal.fit(train)\n",
    "\n",
    "normal_train = normal.transform(train)\n",
    "normal_test = normal.transform(test)\n",
    "\n",
    "len(normal_train)"
   ]
  },
  {
   "cell_type": "code",
   "execution_count": null,
   "metadata": {
    "colab": {
     "base_uri": "https://localhost:8080/",
     "height": 187
    },
    "colab_type": "code",
    "id": "Iv06RnFluPfY",
    "outputId": "d2b7aa3a-b60e-40a3-ccbb-38a2155b195c"
   },
   "outputs": [],
   "source": [
    "normal_test"
   ]
  },
  {
   "cell_type": "markdown",
   "metadata": {
    "colab_type": "text",
    "id": "UEoXaNesuPfb"
   },
   "source": [
    "### Multilayer Perceptron (MLP)"
   ]
  },
  {
   "cell_type": "code",
   "execution_count": null,
   "metadata": {
    "colab": {
     "base_uri": "https://localhost:8080/",
     "height": 51
    },
    "colab_type": "code",
    "id": "IE1Z_cO5uPfj",
    "outputId": "78661ab2-e99b-4c60-e157-1860288d7b1e"
   },
   "outputs": [],
   "source": [
    "# number of inputs and number of features\n",
    "n_input = n_steps \n",
    "print(n_input)\n",
    "n_features = 1 \n",
    "generator = TimeseriesGenerator(normal_train,normal_train,length = n_input,batch_size=1)\n",
    "\n",
    "# number of samples\n",
    "print('Samples: %d' % len(generator))"
   ]
  },
  {
   "cell_type": "code",
   "execution_count": null,
   "metadata": {
    "colab": {
     "base_uri": "https://localhost:8080/",
     "height": 357
    },
    "colab_type": "code",
    "id": "VinS6AGduPfl",
    "outputId": "f5018ae3-e7aa-4be0-ba51-16afc0a61b54"
   },
   "outputs": [],
   "source": [
    "for i in range(len(generator)-2,len(generator)):\n",
    "    x, y = generator[i]\n",
    "    print('%s => %s' % (x, y))"
   ]
  },
  {
   "cell_type": "code",
   "execution_count": null,
   "metadata": {
    "colab": {},
    "colab_type": "code",
    "id": "drgCGJHzuPfm"
   },
   "outputs": [],
   "source": [
    "# good estimation: input_neuron=3/2*num_hidden*num_input--->3/2x1x(len(df)-n_steps-batch_size)"
   ]
  },
  {
   "cell_type": "code",
   "execution_count": null,
   "metadata": {
    "colab": {
     "base_uri": "https://localhost:8080/",
     "height": 255
    },
    "colab_type": "code",
    "id": "qRqofh3suPfr",
    "outputId": "b54e700d-cc7f-41bf-9acc-c9b0e45b6742"
   },
   "outputs": [],
   "source": [
    "# Multilayer Perceptron (MLP) model with one hidden layer\n",
    "\n",
    "from keras.models import Sequential\n",
    "from keras.layers import Dense, Activation,Flatten\n",
    "\n",
    "model = Sequential()\n",
    "model.add(Dense(200, activation='relu',input_shape=(n_input,n_features)))\n",
    "model.add(Flatten())\n",
    "model.add(Dense(units=1))\n",
    "model.compile(optimizer='adam', loss='mse')\n",
    "\n",
    "model.summary()"
   ]
  },
  {
   "cell_type": "code",
   "execution_count": null,
   "metadata": {
    "colab": {
     "base_uri": "https://localhost:8080/",
     "height": 204
    },
    "colab_type": "code",
    "id": "6Niu12ifuPfs",
    "outputId": "46e362e3-2466-4f21-add9-80326d0d15b5"
   },
   "outputs": [],
   "source": [
    "validation_set = np.append(normal_train[-1],normal_test)\n",
    "validation_set=validation_set.reshape(n_steps+1,1)\n",
    "validation_set"
   ]
  },
  {
   "cell_type": "code",
   "execution_count": null,
   "metadata": {
    "colab": {},
    "colab_type": "code",
    "id": "WjByNd4DuPfv"
   },
   "outputs": [],
   "source": [
    "n_input = n_steps\n",
    "n_features = 1\n",
    "validation_gen = TimeseriesGenerator(validation_set,validation_set,length = n_input,batch_size=1)"
   ]
  },
  {
   "cell_type": "code",
   "execution_count": null,
   "metadata": {
    "colab": {
     "base_uri": "https://localhost:8080/",
     "height": 1000
    },
    "colab_type": "code",
    "id": "FlGpLCmhuPf0",
    "outputId": "4322dd4d-028c-47a9-f934-602febc44893"
   },
   "outputs": [],
   "source": [
    "early_stop = EarlyStopping(monitor='val_loss',patience=20,restore_best_weights=True)\n",
    "\n",
    "# fit model\n",
    "model.fit_generator(generator,validation_data=validation_gen,epochs=200,callbacks=[early_stop],steps_per_epoch=10)"
   ]
  },
  {
   "cell_type": "code",
   "execution_count": null,
   "metadata": {
    "colab": {
     "base_uri": "https://localhost:8080/",
     "height": 298
    },
    "colab_type": "code",
    "id": "cFajXPm9uPf1",
    "outputId": "f14db746-6657-4925-a7fd-e4d51b9c3b46"
   },
   "outputs": [],
   "source": [
    "pd.DataFrame(model.history.history).plot(title=\"Loss vs epochs curve\")"
   ]
  },
  {
   "cell_type": "code",
   "execution_count": null,
   "metadata": {
    "colab": {
     "base_uri": "https://localhost:8080/",
     "height": 34
    },
    "colab_type": "code",
    "id": "vxZFPAvtuPf5",
    "outputId": "0bcf4cdb-e572-486d-a94d-99e5a205ee63"
   },
   "outputs": [],
   "source": [
    "model.history.history.keys()"
   ]
  },
  {
   "cell_type": "code",
   "execution_count": null,
   "metadata": {
    "colab": {
     "base_uri": "https://localhost:8080/",
     "height": 298
    },
    "colab_type": "code",
    "id": "7-hJZ-TauPf8",
    "outputId": "78e408c5-24de-4fc1-ab01-a2d09ef8198e"
   },
   "outputs": [],
   "source": [
    "loss_1 = model.history.history[\"val_loss\"]\n",
    "plt.title(\"Validation loss vs epochs\")\n",
    "plt.plot(range(len(loss_1)),loss_1)"
   ]
  },
  {
   "cell_type": "code",
   "execution_count": null,
   "metadata": {
    "colab": {
     "base_uri": "https://localhost:8080/",
     "height": 298
    },
    "colab_type": "code",
    "id": "M6E6FfhAuPgB",
    "outputId": "ffb29ec1-bfc9-49c5-8bfb-0ea4d3677787"
   },
   "outputs": [],
   "source": [
    "loss_1 = model.history.history[\"loss\"]\n",
    "plt.title(\"Training loss vs epochs\")\n",
    "plt.plot(range(len(loss_1)),loss_1)"
   ]
  },
  {
   "cell_type": "code",
   "execution_count": null,
   "metadata": {
    "colab": {
     "base_uri": "https://localhost:8080/",
     "height": 34
    },
    "colab_type": "code",
    "id": "ZJBF6PA8uPgE",
    "outputId": "d4aafc45-a93f-4332-8853-4ead2b3cb7fb"
   },
   "outputs": [],
   "source": [
    "# list of predictions\n",
    "test_prediction = []\n",
    "\n",
    "#last `n_input` points from training set\n",
    "current_batch = normal_train[-n_input:].reshape(1,n_input,n_features)\n",
    "\n",
    "current_batch.shape"
   ]
  },
  {
   "cell_type": "code",
   "execution_count": null,
   "metadata": {
    "colab": {
     "base_uri": "https://localhost:8080/",
     "height": 306
    },
    "colab_type": "code",
    "id": "-OV29DGfuPgL",
    "outputId": "08b3569f-b3be-4295-9041-bf9074ec5feb"
   },
   "outputs": [],
   "source": [
    "# forecast the number of Deaths cases in world for validation set and the next 7 days\n",
    "\n",
    "for i in range(n_steps+7):\n",
    "    current_pred = model.predict(current_batch)[0]\n",
    "    test_prediction.append(current_pred)\n",
    "    current_batch = np.append(current_batch[:,1:,:],[[current_pred]],axis=1)\n",
    "\n",
    "test_prediction"
   ]
  },
  {
   "cell_type": "code",
   "execution_count": null,
   "metadata": {
    "colab": {
     "base_uri": "https://localhost:8080/",
     "height": 102
    },
    "colab_type": "code",
    "id": "DqGhwt7auPgO",
    "outputId": "eac5d909-29d4-4097-9da6-d1422da35a3f"
   },
   "outputs": [],
   "source": [
    "# apply inverse transformations on scaled data\n",
    "true_prediction = normal.inverse_transform(test_prediction)\n",
    "true_prediction[:,0]"
   ]
  },
  {
   "cell_type": "code",
   "execution_count": null,
   "metadata": {
    "colab": {
     "base_uri": "https://localhost:8080/",
     "height": 51
    },
    "colab_type": "code",
    "id": "xUWDgk1FuPgP",
    "outputId": "9c19dd35-f019-465e-c500-a285717fd331"
   },
   "outputs": [],
   "source": [
    "# number of days in future considered to forecast\n",
    "future_days = 7\n",
    "\n",
    "# first date of test\n",
    "first_date = c_world1.iloc[train_size:]['Date'].tolist()[0]\n",
    "first_date=pd.to_datetime(first_date)\n",
    "print(type(first_date))\n",
    "# find dates related to days from start of test set to future\n",
    "dates_first_to_futures = pd.Series([(first_date + timedelta(days=i)) for i in range(n_steps+7)])\n",
    "print(dates_first_to_futures.shape)"
   ]
  },
  {
   "cell_type": "code",
   "execution_count": null,
   "metadata": {
    "colab": {
     "base_uri": "https://localhost:8080/",
     "height": 576
    },
    "colab_type": "code",
    "id": "uKOorrFSuPgS",
    "outputId": "7bd9d8d8-704c-4b46-f53d-d392313a7f65"
   },
   "outputs": [],
   "source": [
    "prediction_df = pd.DataFrame(columns=[\"Deaths\",\"Deaths_predicted\"],index=dates_first_to_futures)\n",
    "\n",
    "prediction_df.loc[:,\"Deaths_predicted\"] = true_prediction[:,0]\n",
    "test_set=c_world1.iloc[train_size:]['Deaths'].values.tolist()\n",
    "prediction_df.loc[:n_steps,\"Deaths\"] = c_world1.iloc[train_size:]['Deaths'].values.tolist()\n",
    "prediction_df"
   ]
  },
  {
   "cell_type": "code",
   "execution_count": null,
   "metadata": {
    "colab": {
     "base_uri": "https://localhost:8080/",
     "height": 322
    },
    "colab_type": "code",
    "id": "hAxaBMNcuPgT",
    "outputId": "04b766a4-7b94-44c9-cae3-8be862b4bf57"
   },
   "outputs": [],
   "source": [
    "prediction_df.plot(title=\"World Predictions for next 7 days-MLP\")"
   ]
  },
  {
   "cell_type": "code",
   "execution_count": null,
   "metadata": {
    "colab": {
     "base_uri": "https://localhost:8080/",
     "height": 34
    },
    "colab_type": "code",
    "id": "wsSXrA5auPgW",
    "outputId": "a69b8f72-d845-41d2-90a3-97703af64bd0"
   },
   "outputs": [],
   "source": [
    "MAPE = np.mean(np.abs(np.array(prediction_df[\"Deaths\"][:n_steps]) -\\\n",
    "                      np.array(prediction_df[\"Deaths_predicted\"][:n_steps]))/np.array(prediction_df[\"Deaths\"][:n_steps]))\n",
    "print(\"MAPE is \",MAPE*100,\" %\")"
   ]
  },
  {
   "cell_type": "code",
   "execution_count": null,
   "metadata": {
    "colab": {
     "base_uri": "https://localhost:8080/",
     "height": 34
    },
    "colab_type": "code",
    "id": "OiBgCkOouPgX",
    "outputId": "1fba2262-6573-4dad-ac18-669eb5eec97d"
   },
   "outputs": [],
   "source": [
    "print(\"Accuracy: \", 100-MAPE,\"%\")"
   ]
  },
  {
   "cell_type": "markdown",
   "metadata": {
    "colab_type": "text",
    "id": "uD_uoPSRuPgZ"
   },
   "source": [
    "### A recurrent neural network, Long Short-Term Memory network (LSTM)"
   ]
  },
  {
   "cell_type": "code",
   "execution_count": null,
   "metadata": {
    "colab": {
     "base_uri": "https://localhost:8080/",
     "height": 34
    },
    "colab_type": "code",
    "id": "v6sM0EmXuPga",
    "outputId": "42015ebe-b94a-49dd-82c5-fc3cfdc64aec"
   },
   "outputs": [],
   "source": [
    "# number of inputs and number of features\n",
    "n_input = n_steps \n",
    "n_features = 1 \n",
    "generator = TimeseriesGenerator(normal_train,normal_train,length = n_input,batch_size=1)\n",
    "\n",
    "# number of samples\n",
    "print('Samples: %d' % len(generator))"
   ]
  },
  {
   "cell_type": "code",
   "execution_count": null,
   "metadata": {
    "colab": {
     "base_uri": "https://localhost:8080/",
     "height": 255
    },
    "colab_type": "code",
    "id": "4dgaK36ZuPgf",
    "outputId": "49046c39-1d54-44b6-cf22-97b96e4e12e7"
   },
   "outputs": [],
   "source": [
    "# A recurrent neural network (LSTM) model with two hidden layers containing 150+75 nodes\n",
    "\n",
    "from keras.layers import Dense, LSTM, Dropout, Activation\n",
    "\n",
    "model = Sequential()\n",
    "model.add(LSTM(150,activation=\"relu\",input_shape=(n_input,n_features)))\n",
    "model.add(Dense(75, activation='relu'))\n",
    "model.add(Dense(units=1))\n",
    "model.compile(optimizer=\"adam\",loss=\"mse\")\n",
    "\n",
    "model.summary()"
   ]
  },
  {
   "cell_type": "code",
   "execution_count": null,
   "metadata": {
    "colab": {
     "base_uri": "https://localhost:8080/",
     "height": 204
    },
    "colab_type": "code",
    "id": "YRf18QtJuPgi",
    "outputId": "ea6bf94b-aa31-4819-9ad1-7deb426a18ff"
   },
   "outputs": [],
   "source": [
    "validation_set = np.append(normal_train[-1],normal_test)\n",
    "validation_set=validation_set.reshape(11,1)\n",
    "validation_set"
   ]
  },
  {
   "cell_type": "code",
   "execution_count": null,
   "metadata": {
    "colab": {},
    "colab_type": "code",
    "id": "Zb9sD3qquPgk"
   },
   "outputs": [],
   "source": [
    "n_input = n_steps\n",
    "n_features = 1\n",
    "validation_gen = TimeseriesGenerator(validation_set,validation_set,length = n_input,batch_size=1)"
   ]
  },
  {
   "cell_type": "code",
   "execution_count": null,
   "metadata": {
    "colab": {
     "base_uri": "https://localhost:8080/",
     "height": 1000
    },
    "colab_type": "code",
    "id": "Z5jLmxEruPgl",
    "outputId": "db957723-2e5c-4951-ed1a-134b84182325"
   },
   "outputs": [],
   "source": [
    "# fit model\n",
    "model.fit_generator(generator,validation_data=validation_gen,epochs=200,callbacks=[early_stop],steps_per_epoch=10)\n",
    "#model.fit_generator(generator,validation_data=validation_gen,epochs=500,callbacks=[early_stop],steps_per_epoch=1)"
   ]
  },
  {
   "cell_type": "code",
   "execution_count": null,
   "metadata": {
    "colab": {
     "base_uri": "https://localhost:8080/",
     "height": 298
    },
    "colab_type": "code",
    "id": "bSPmWms5uPgn",
    "outputId": "2709d9cc-2376-4d6e-fdde-f2bc2a115451"
   },
   "outputs": [],
   "source": [
    "pd.DataFrame(model.history.history).plot(title=\"Loss vs epochs curve\")"
   ]
  },
  {
   "cell_type": "code",
   "execution_count": null,
   "metadata": {
    "colab": {
     "base_uri": "https://localhost:8080/",
     "height": 34
    },
    "colab_type": "code",
    "id": "r0QRu5QBuPgp",
    "outputId": "3f7c545a-786e-40c2-b36e-a8a019dcc34c"
   },
   "outputs": [],
   "source": [
    "model.history.history.keys()"
   ]
  },
  {
   "cell_type": "code",
   "execution_count": null,
   "metadata": {
    "colab": {
     "base_uri": "https://localhost:8080/",
     "height": 298
    },
    "colab_type": "code",
    "id": "WiV244sluPgs",
    "outputId": "0a8c06ad-798e-45a8-c28d-82c13fa8b210"
   },
   "outputs": [],
   "source": [
    "loss_1 = model.history.history[\"val_loss\"]\n",
    "plt.title(\"Validation loss vs epochs\")\n",
    "plt.plot(range(len(loss_1)),loss_1)"
   ]
  },
  {
   "cell_type": "code",
   "execution_count": null,
   "metadata": {
    "colab": {
     "base_uri": "https://localhost:8080/",
     "height": 298
    },
    "colab_type": "code",
    "id": "_1qJYINTuPgt",
    "outputId": "7c00e40a-17d2-4671-9871-3b1e26d54a7f"
   },
   "outputs": [],
   "source": [
    "loss_1 = model.history.history[\"loss\"]\n",
    "plt.title(\"Training loss vs epochs\")\n",
    "plt.plot(range(len(loss_1)),loss_1)"
   ]
  },
  {
   "cell_type": "code",
   "execution_count": null,
   "metadata": {
    "colab": {
     "base_uri": "https://localhost:8080/",
     "height": 34
    },
    "colab_type": "code",
    "id": "zDOwA49IuPg0",
    "outputId": "2f34ff15-30ab-49f1-fdad-b25940e1b11b"
   },
   "outputs": [],
   "source": [
    "# list of predictions\n",
    "test_prediction = []\n",
    "\n",
    "#last `n_input` points from training set\n",
    "current_batch = normal_train[-n_input:].reshape(1,n_input,n_features)\n",
    "\n",
    "current_batch.shape"
   ]
  },
  {
   "cell_type": "code",
   "execution_count": null,
   "metadata": {
    "colab": {
     "base_uri": "https://localhost:8080/",
     "height": 306
    },
    "colab_type": "code",
    "id": "mJWTOpgDuPg5",
    "outputId": "a59661b3-8301-4090-ab0c-d856a0b648a6"
   },
   "outputs": [],
   "source": [
    "# forecast the number of Deaths cases in world for validation set and the next 7 days\n",
    "\n",
    "for i in range(n_steps+7):\n",
    "    current_pred = model.predict(current_batch)[0]\n",
    "    test_prediction.append(current_pred)\n",
    "    current_batch = np.append(current_batch[:,1:,:],[[current_pred]],axis=1)\n",
    "\n",
    "test_prediction"
   ]
  },
  {
   "cell_type": "code",
   "execution_count": null,
   "metadata": {
    "colab": {
     "base_uri": "https://localhost:8080/",
     "height": 102
    },
    "colab_type": "code",
    "id": "S4793dZ-uPg8",
    "outputId": "70aa5777-9a19-4a01-db22-b54e55bb28d0"
   },
   "outputs": [],
   "source": [
    "# apply inverse transformations on scaled data\n",
    "true_prediction = normal.inverse_transform(test_prediction)\n",
    "true_prediction[:,0]"
   ]
  },
  {
   "cell_type": "code",
   "execution_count": null,
   "metadata": {
    "colab": {
     "base_uri": "https://localhost:8080/",
     "height": 51
    },
    "colab_type": "code",
    "id": "gG3VU-A_uPg9",
    "outputId": "1329af31-502f-4c94-9130-760513a96338"
   },
   "outputs": [],
   "source": [
    "# number of days in future considered to forecast\n",
    "future_days = 7\n",
    "\n",
    "# first date of test\n",
    "first_date = covid19_world1.iloc[train_size:]['Date'].tolist()[0]\n",
    "first_date=pd.to_datetime(first_date)\n",
    "print(type(first_date))\n",
    "# find dates related to days from start of test set to future\n",
    "dates_first_to_futures = pd.Series([(first_date + timedelta(days=i)) for i in range(n_steps+7)])\n",
    "print(dates_first_to_futures.shape)"
   ]
  },
  {
   "cell_type": "code",
   "execution_count": null,
   "metadata": {
    "colab": {
     "base_uri": "https://localhost:8080/",
     "height": 576
    },
    "colab_type": "code",
    "id": "vpTq5dhkuPhD",
    "outputId": "410437c6-645d-42a4-f59f-3d1b0b69aa0c"
   },
   "outputs": [],
   "source": [
    "prediction_df = pd.DataFrame(columns=[\"Deaths\",\"Deaths_predicted\"],index=dates_first_to_futures)\n",
    "\n",
    "prediction_df.loc[:,\"Deaths_predicted\"] = true_prediction[:,0]\n",
    "test_set=covid19_world1.iloc[train_size:]['Deaths'].values.tolist()\n",
    "prediction_df.loc[:n_steps,\"Deaths\"] = covid19_world1.iloc[train_size:]['Deaths'].values.tolist()\n",
    "prediction_df"
   ]
  },
  {
   "cell_type": "code",
   "execution_count": null,
   "metadata": {
    "colab": {
     "base_uri": "https://localhost:8080/",
     "height": 322
    },
    "colab_type": "code",
    "id": "PEr9XJoeuPhG",
    "outputId": "9627f3ff-5f5b-4fb0-8ad7-e351dbd362e9"
   },
   "outputs": [],
   "source": [
    "prediction_df.plot(title=\"World Predictions for next 7 days-LSTM\")"
   ]
  },
  {
   "cell_type": "code",
   "execution_count": null,
   "metadata": {
    "colab": {
     "base_uri": "https://localhost:8080/",
     "height": 34
    },
    "colab_type": "code",
    "id": "atakPrA-uPhH",
    "outputId": "ab105ad6-f96d-4e07-a0de-f17454cbc7c7"
   },
   "outputs": [],
   "source": [
    "MAPE = np.mean(np.abs(np.array(prediction_df[\"Deaths\"][:n_steps]) -\\\n",
    "                      np.array(prediction_df[\"Deaths_predicted\"][:n_steps]))/np.array(prediction_df[\"Deaths\"][:n_steps]))\n",
    "print(\"MAPE is \",MAPE*100,\" %\")"
   ]
  },
  {
   "cell_type": "code",
   "execution_count": null,
   "metadata": {
    "colab": {
     "base_uri": "https://localhost:8080/",
     "height": 34
    },
    "colab_type": "code",
    "id": "1M8On76puPhJ",
    "outputId": "743f63be-3af2-4a44-d9c9-0ad25d2d2414"
   },
   "outputs": [],
   "source": [
    "print(\"Accuracy: \", 100-MAPE,\"%\")"
   ]
  },
  {
   "cell_type": "markdown",
   "metadata": {
    "colab_type": "text",
    "id": "j3iYF1H2nzdJ"
   },
   "source": [
    "# Data modeling and prediction based on dataframes (multivariate time series)"
   ]
  },
  {
   "cell_type": "markdown",
   "metadata": {
    "colab_type": "text",
    "id": "vllIA-3RnzdJ"
   },
   "source": [
    "## Predicting the total number of confirmed cases of the world"
   ]
  },
  {
   "cell_type": "code",
   "execution_count": null,
   "metadata": {
    "colab": {
     "base_uri": "https://localhost:8080/",
     "height": 306
    },
    "colab_type": "code",
    "id": "BM021EFNnzdK",
    "outputId": "6d605889-e31f-4255-bfc3-d1cec4f44951"
   },
   "outputs": [],
   "source": [
    "data = c_world.copy().drop(['Date'],axis=1)\n",
    "data.info()"
   ]
  },
  {
   "cell_type": "code",
   "execution_count": null,
   "metadata": {
    "colab": {
     "base_uri": "https://localhost:8080/",
     "height": 351
    },
    "colab_type": "code",
    "id": "61wX-XSnnzdL",
    "outputId": "77fc984b-a41c-477f-f693-9812552e7847"
   },
   "outputs": [],
   "source": [
    "data.describe()"
   ]
  },
  {
   "cell_type": "code",
   "execution_count": null,
   "metadata": {
    "_cell_guid": "9c122298-471f-4f02-aa14-5d4218385f56",
    "_execution_state": "idle",
    "_uuid": "cc96273ceb750522bc1f48e76599bbe12f384e9d",
    "colab": {
     "base_uri": "https://localhost:8080/",
     "height": 392
    },
    "colab_type": "code",
    "id": "rnqkGaRCnzdN",
    "outputId": "ebc8f961-c4ce-4934-e921-77aa25f7dc36"
   },
   "outputs": [],
   "source": [
    "# Correlations\n",
    "\n",
    "sns.heatmap(data.corr(), annot = True)"
   ]
  },
  {
   "cell_type": "code",
   "execution_count": null,
   "metadata": {
    "colab": {},
    "colab_type": "code",
    "id": "rvu9jL-SnzdP"
   },
   "outputs": [],
   "source": [
    "X=data.iloc[:,1:].values\n",
    "y=data.iloc[:,0].values"
   ]
  },
  {
   "cell_type": "code",
   "execution_count": null,
   "metadata": {
    "colab": {
     "base_uri": "https://localhost:8080/",
     "height": 85
    },
    "colab_type": "code",
    "id": "TcMIclv_nzdR",
    "outputId": "0b398aaa-06d3-4d02-9266-a05e591604db"
   },
   "outputs": [],
   "source": [
    "#Splitting the dataset related to confirmed cases of the world into training and test sets\n",
    "\n",
    "X_train_confirmed, X_test_confirmed, y_train_confirmed, y_test_confirmed = train_test_split(X, y,test_size = 0.2,random_state=42)\n",
    "\n",
    "print(X_train_confirmed.shape)\n",
    "print(y_train_confirmed.shape)\n",
    "print(X_test_confirmed.shape)\n",
    "print(y_test_confirmed.shape)"
   ]
  },
  {
   "cell_type": "markdown",
   "metadata": {
    "colab_type": "text",
    "id": "Mk43HEK4nzdS"
   },
   "source": [
    "### Decision tree regressor"
   ]
  },
  {
   "cell_type": "code",
   "execution_count": null,
   "metadata": {
    "colab": {
     "base_uri": "https://localhost:8080/",
     "height": 327
    },
    "colab_type": "code",
    "id": "o25KIfgGnzdT",
    "outputId": "5a87245d-e26d-48e9-ad4f-931806cb5107"
   },
   "outputs": [],
   "source": [
    "tree_reg = DecisionTreeRegressor(max_depth=8, random_state=42)\n",
    "\n",
    "tree_reg.fit(X_train_confirmed, y_train_confirmed)\n",
    "\n",
    "y_pred = tree_reg.predict(X_test_confirmed)\n",
    "\n",
    "plt.plot(y_test_confirmed)\n",
    "plt.plot(y_pred)\n",
    "plt.legend(['Test Data', 'Decision Tree Predictions'])\n",
    "\n",
    "mae=mean_absolute_error(y_pred, y_test_confirmed)\n",
    "mse=mean_squared_error(y_pred, y_test_confirmed)\n",
    "rmse = np.sqrt(mse)\n",
    "print(\"RMSE of \", tree_reg.__class__.__name__, round(rmse,2))\n",
    "print(\"MAE of \", tree_reg.__class__.__name__, round(mae,2), '\\n')"
   ]
  },
  {
   "cell_type": "markdown",
   "metadata": {
    "colab_type": "text",
    "id": "HrD7CSHCnzdV"
   },
   "source": [
    "### Support vector machine regressor"
   ]
  },
  {
   "cell_type": "code",
   "execution_count": null,
   "metadata": {
    "_kg_hide-input": true,
    "_kg_hide-output": true,
    "colab": {
     "base_uri": "https://localhost:8080/",
     "height": 327
    },
    "colab_type": "code",
    "id": "YF6J3qEhnzdV",
    "outputId": "ab44213f-9171-4345-e05c-eb736de0095d"
   },
   "outputs": [],
   "source": [
    "svm_reg = SVR(C=1000,kernel='poly')\n",
    "svm_reg.fit(X_train_confirmed, y_train_confirmed)\n",
    "\n",
    "y_pred = svm_reg.predict(X_test_confirmed)\n",
    "\n",
    "plt.plot(y_test_confirmed)\n",
    "plt.plot(y_pred)\n",
    "plt.legend(['Test Data', 'SVM Predictions'])\n",
    "\n",
    "mae=mean_absolute_error(y_pred, y_test_confirmed)\n",
    "mse=mean_squared_error(y_pred, y_test_confirmed)\n",
    "rmse = np.sqrt(mse)\n",
    "print(\"RMSE of \", svm_reg.__class__.__name__, round(rmse,2))\n",
    "print(\"MAE of \", svm_reg.__class__.__name__, round(mae,2), '\\n')"
   ]
  },
  {
   "cell_type": "code",
   "execution_count": null,
   "metadata": {
    "_kg_hide-input": true,
    "_kg_hide-output": true,
    "colab": {
     "base_uri": "https://localhost:8080/",
     "height": 327
    },
    "colab_type": "code",
    "id": "StRMLXgpnzdZ",
    "outputId": "a43da0ac-7582-4bc1-bf4a-57d522ff298c"
   },
   "outputs": [],
   "source": [
    "svm_reg = SVR(C=100000,kernel='poly')\n",
    "svm_reg.fit(X_train_confirmed, y_train_confirmed)\n",
    "\n",
    "y_pred = svm_reg.predict(X_test_confirmed)\n",
    "\n",
    "plt.plot(y_test_confirmed)\n",
    "plt.plot(y_pred)\n",
    "plt.legend(['Test Data', 'SVM Predictions'])\n",
    "\n",
    "mae=mean_absolute_error(y_pred, y_test_confirmed)\n",
    "mse=mean_squared_error(y_pred, y_test_confirmed)\n",
    "rmse = np.sqrt(mse)\n",
    "print(\"RMSE of \", svm_reg.__class__.__name__, round(rmse,2))\n",
    "print(\"MAE of \", svm_reg.__class__.__name__, round(mae,2), '\\n')"
   ]
  },
  {
   "cell_type": "code",
   "execution_count": null,
   "metadata": {
    "_kg_hide-input": true,
    "_kg_hide-output": true,
    "colab": {
     "base_uri": "https://localhost:8080/",
     "height": 327
    },
    "colab_type": "code",
    "id": "C5Gxp1tnnzda",
    "outputId": "74bfc988-7cd2-46a3-c651-d8c6d198ac24"
   },
   "outputs": [],
   "source": [
    "svm_reg = SVR(C=1000000,kernel='poly')\n",
    "svm_reg.fit(X_train_confirmed, y_train_confirmed)\n",
    "\n",
    "y_pred = svm_reg.predict(X_test_confirmed)\n",
    "\n",
    "plt.plot(y_test_confirmed)\n",
    "plt.plot(y_pred)\n",
    "plt.legend(['Test Data', 'SVM Predictions'])\n",
    "\n",
    "mae=mean_absolute_error(y_pred, y_test_confirmed)\n",
    "mse=mean_squared_error(y_pred, y_test_confirmed)\n",
    "rmse = np.sqrt(mse)\n",
    "print(\"RMSE of \", svm_reg.__class__.__name__, round(rmse,2))\n",
    "print(\"MAE of \", svm_reg.__class__.__name__, round(mae,2), '\\n')"
   ]
  },
  {
   "cell_type": "markdown",
   "metadata": {
    "colab_type": "text",
    "id": "qoL670Wdnzde"
   },
   "source": [
    "### Random Forests Regressor"
   ]
  },
  {
   "cell_type": "code",
   "execution_count": null,
   "metadata": {
    "colab": {
     "base_uri": "https://localhost:8080/",
     "height": 327
    },
    "colab_type": "code",
    "id": "drpxUrdInzde",
    "outputId": "2537c606-7e87-4330-e8ee-b9b6ac92fcfc"
   },
   "outputs": [],
   "source": [
    "rf_reg = RandomForestRegressor(max_depth=9,n_estimators=5000, random_state=42)\n",
    "\n",
    "rf_reg.fit(X_train_confirmed, y_train_confirmed)\n",
    "\n",
    "y_pred = rf_reg.predict(X_test_confirmed)\n",
    "\n",
    "plt.plot(y_test_confirmed)\n",
    "plt.plot(y_pred)\n",
    "plt.legend(['Test Data', 'Random Forests Predictions'])\n",
    "\n",
    "mae=mean_absolute_error(y_pred, y_test_confirmed)\n",
    "mse=mean_squared_error(y_pred, y_test_confirmed)\n",
    "rmse = np.sqrt(mse)\n",
    "print(\"RMSE of \", rf_reg.__class__.__name__, round(rmse,2))\n",
    "print(\"MAE of \", rf_reg.__class__.__name__, round(mae,2), '\\n')"
   ]
  },
  {
   "cell_type": "markdown",
   "metadata": {
    "colab_type": "text",
    "id": "cVAGawaXnzdg"
   },
   "source": [
    "### XGBoost Regressor"
   ]
  },
  {
   "cell_type": "code",
   "execution_count": null,
   "metadata": {
    "colab": {
     "base_uri": "https://localhost:8080/",
     "height": 173
    },
    "colab_type": "code",
    "id": "KRJfTLNNnzdg",
    "outputId": "da7c7152-1f7a-4464-82f7-9199d02f88cd"
   },
   "outputs": [],
   "source": [
    "xgb_reg=XGBRegressor(n_estimators=1000, learning_rate=0.05, n_jobs=4)\n",
    "xgb_reg.fit(X_train_confirmed, y_train_confirmed, early_stopping_rounds=10,\n",
    "            eval_set=[(X_test_confirmed, y_test_confirmed)],verbose=0)"
   ]
  },
  {
   "cell_type": "code",
   "execution_count": null,
   "metadata": {
    "colab": {
     "base_uri": "https://localhost:8080/",
     "height": 327
    },
    "colab_type": "code",
    "id": "hHMjyMVynzdj",
    "outputId": "46ca2f6a-0455-4580-afa6-e1e02b671bee"
   },
   "outputs": [],
   "source": [
    "xgb_reg= XGBRegressor(base_score=0.5, booster='gbtree', colsample_bylevel=1,\n",
    "             colsample_bynode=1, colsample_bytree=1, gamma=0,\n",
    "             importance_type='gain', interaction_constraints='',\n",
    "             learning_rate=0.05, max_delta_step=0, max_depth=6,\n",
    "             min_child_weight=1,\n",
    "             n_estimators=1000, n_jobs=4, num_parallel_tree=1,\n",
    "             objective='reg:squarederror', random_state=0, reg_alpha=0,\n",
    "             reg_lambda=1, scale_pos_weight=1, subsample=1, tree_method='exact',\n",
    "             validate_parameters=1, verbosity=0)\n",
    "\n",
    "xgb_reg.fit(X_train_confirmed, y_train_confirmed)\n",
    "\n",
    "y_pred = xgb_reg.predict(X_test_confirmed)\n",
    "\n",
    "plt.plot(y_test_confirmed)\n",
    "plt.plot(y_pred)\n",
    "plt.legend(['Test Data', 'XGBoost Predictions'])\n",
    "\n",
    "mae=mean_absolute_error(y_pred, y_test_confirmed)\n",
    "mse=mean_squared_error(y_pred, y_test_confirmed)\n",
    "rmse = np.sqrt(mse)\n",
    "print(\"RMSE of \", xgb_reg.__class__.__name__, round(rmse,2))\n",
    "print(\"MAE of \", xgb_reg.__class__.__name__, round(mae,2), '\\n')"
   ]
  },
  {
   "cell_type": "markdown",
   "metadata": {
    "colab_type": "text",
    "id": "8QWCpXMhnzdl"
   },
   "source": [
    "## Add some new columns to data"
   ]
  },
  {
   "cell_type": "code",
   "execution_count": null,
   "metadata": {
    "colab": {},
    "colab_type": "code",
    "id": "h8Zr5AUMnzdl"
   },
   "outputs": [],
   "source": [
    "data['Day'] = covid19_world['Date'].dt.day\n",
    "data['Month'] = covid19_world['Date'].dt.month\n",
    "data['Day of week'] = covid19_world['Date'].dt.dayofweek\n",
    "data['Day of year'] = covid19_world['Date'].dt.dayofyear\n",
    "data['Quarter'] = covid19_world['Date'].dt.quarter\n",
    "data['Week of year'] = covid19_world['Date'].dt.weekofyear"
   ]
  },
  {
   "cell_type": "code",
   "execution_count": null,
   "metadata": {
    "colab": {
     "base_uri": "https://localhost:8080/",
     "height": 258
    },
    "colab_type": "code",
    "id": "VFSVsfVjnzdm",
    "outputId": "c28cbe4e-b68d-4f15-c5a1-da235c524fb7"
   },
   "outputs": [],
   "source": [
    "data.head()"
   ]
  },
  {
   "cell_type": "code",
   "execution_count": null,
   "metadata": {
    "_cell_guid": "9c122298-471f-4f02-aa14-5d4218385f56",
    "_execution_state": "idle",
    "_uuid": "cc96273ceb750522bc1f48e76599bbe12f384e9d",
    "colab": {
     "base_uri": "https://localhost:8080/",
     "height": 718
    },
    "colab_type": "code",
    "id": "GRv9-CMsnzdo",
    "outputId": "78ba53bf-70ed-493b-e967-2de25dceae33"
   },
   "outputs": [],
   "source": [
    "# Correlations\n",
    "plt.figure(figsize= (10,10))\n",
    "sns.heatmap(data.corr(), annot = True)"
   ]
  },
  {
   "cell_type": "code",
   "execution_count": null,
   "metadata": {
    "colab": {
     "base_uri": "https://localhost:8080/",
     "height": 258
    },
    "colab_type": "code",
    "id": "f4DD5zpJnzdq",
    "outputId": "b7525dad-5f76-49c7-f33a-337d6f962bcd"
   },
   "outputs": [],
   "source": [
    "# drop some columns based on correlations\n",
    "\n",
    "data=data.drop(['Day','Day of week'],axis=1)\n",
    "data.head()"
   ]
  },
  {
   "cell_type": "code",
   "execution_count": null,
   "metadata": {
    "colab": {},
    "colab_type": "code",
    "id": "c7gaFTHjnzds"
   },
   "outputs": [],
   "source": [
    "X=data.iloc[:,1:].values\n",
    "y=data.iloc[:,0].values"
   ]
  },
  {
   "cell_type": "code",
   "execution_count": null,
   "metadata": {
    "colab": {
     "base_uri": "https://localhost:8080/",
     "height": 85
    },
    "colab_type": "code",
    "id": "IF3A2hJGnzdu",
    "outputId": "8d930308-a60a-473a-a88c-936473fe9684"
   },
   "outputs": [],
   "source": [
    "#Splitting the dataset related to confirmed cases of the world into training and test sets\n",
    "\n",
    "X_train_confirmed, X_test_confirmed, y_train_confirmed, y_test_confirmed = train_test_split(X, y,test_size = 0.2,random_state=42)\n",
    "\n",
    "print(X_train_confirmed.shape)\n",
    "print(y_train_confirmed.shape)\n",
    "print(X_test_confirmed.shape)\n",
    "print(y_test_confirmed.shape)"
   ]
  },
  {
   "cell_type": "markdown",
   "metadata": {
    "colab_type": "text",
    "id": "ecbv0ZtInzdv"
   },
   "source": [
    "### Decision tree regressor"
   ]
  },
  {
   "cell_type": "code",
   "execution_count": null,
   "metadata": {
    "colab": {
     "base_uri": "https://localhost:8080/",
     "height": 327
    },
    "colab_type": "code",
    "id": "j1jw27Lknzdw",
    "outputId": "8ff46903-d329-43e5-94b7-d3beebf48bd8"
   },
   "outputs": [],
   "source": [
    "tree_reg = DecisionTreeRegressor(max_depth=6, random_state=42)\n",
    "\n",
    "tree_reg.fit(X_train_confirmed, y_train_confirmed)\n",
    "\n",
    "y_pred = tree_reg.predict(X_test_confirmed)\n",
    "\n",
    "plt.plot(y_test_confirmed)\n",
    "plt.plot(y_pred)\n",
    "plt.legend(['Test Data', 'Decision Tree Predictions'])\n",
    "\n",
    "mae=mean_absolute_error(y_pred, y_test_confirmed)\n",
    "mse=mean_squared_error(y_pred, y_test_confirmed)\n",
    "rmse = np.sqrt(mse)\n",
    "print(\"RMSE of \", tree_reg.__class__.__name__, round(rmse,2))\n",
    "print(\"MAE of \", tree_reg.__class__.__name__, round(mae,2), '\\n')"
   ]
  },
  {
   "cell_type": "markdown",
   "metadata": {
    "colab_type": "text",
    "id": "03bfJBItnzdx"
   },
   "source": [
    "### Support vector machine regressor"
   ]
  },
  {
   "cell_type": "code",
   "execution_count": null,
   "metadata": {
    "_kg_hide-input": true,
    "_kg_hide-output": true,
    "colab": {
     "base_uri": "https://localhost:8080/",
     "height": 327
    },
    "colab_type": "code",
    "id": "SlXyxAE3nzdy",
    "outputId": "d6dfd38c-2990-4731-eb07-3282a9da83ac"
   },
   "outputs": [],
   "source": [
    "svm_reg = SVR(C=1000,kernel='poly')\n",
    "svm_reg.fit(X_train_confirmed, y_train_confirmed)\n",
    "\n",
    "y_pred = svm_reg.predict(X_test_confirmed)\n",
    "\n",
    "plt.plot(y_test_confirmed)\n",
    "plt.plot(y_pred)\n",
    "plt.legend(['Test Data', 'SVM Predictions'])\n",
    "\n",
    "mae=mean_absolute_error(y_pred, y_test_confirmed)\n",
    "mse=mean_squared_error(y_pred, y_test_confirmed)\n",
    "rmse = np.sqrt(mse)\n",
    "print(\"RMSE of \", svm_reg.__class__.__name__, round(rmse,2))\n",
    "print(\"MAE of \", svm_reg.__class__.__name__, round(mae,2), '\\n')"
   ]
  },
  {
   "cell_type": "code",
   "execution_count": null,
   "metadata": {
    "_kg_hide-input": true,
    "_kg_hide-output": true,
    "colab": {
     "base_uri": "https://localhost:8080/",
     "height": 327
    },
    "colab_type": "code",
    "id": "QLU9gtIanzdz",
    "outputId": "d260369e-2eeb-43ec-cbae-1dfe1fdc0afa"
   },
   "outputs": [],
   "source": [
    "svm_reg = SVR(C=1000000,kernel='poly')\n",
    "svm_reg.fit(X_train_confirmed, y_train_confirmed)\n",
    "\n",
    "y_pred = svm_reg.predict(X_test_confirmed)\n",
    "\n",
    "plt.plot(y_test_confirmed)\n",
    "plt.plot(y_pred)\n",
    "plt.legend(['Test Data', 'SVM Predictions'])\n",
    "\n",
    "mae=mean_absolute_error(y_pred, y_test_confirmed)\n",
    "mse=mean_squared_error(y_pred, y_test_confirmed)\n",
    "rmse = np.sqrt(mse)\n",
    "print(\"RMSE of \", svm_reg.__class__.__name__, round(rmse,2))\n",
    "print(\"MAE of \", svm_reg.__class__.__name__, round(mae,2), '\\n')"
   ]
  },
  {
   "cell_type": "markdown",
   "metadata": {
    "colab_type": "text",
    "id": "YJ2YySCEnzd1"
   },
   "source": [
    "### Random Forests Regressor"
   ]
  },
  {
   "cell_type": "code",
   "execution_count": null,
   "metadata": {
    "colab": {
     "base_uri": "https://localhost:8080/",
     "height": 327
    },
    "colab_type": "code",
    "id": "hh099wqhnzd1",
    "outputId": "51b34a80-e20a-4fe8-800f-f0e064b6fd65"
   },
   "outputs": [],
   "source": [
    "rf_reg = RandomForestRegressor(max_depth=8,n_estimators=5000, random_state=42)\n",
    "\n",
    "rf_reg.fit(X_train_confirmed, y_train_confirmed)\n",
    "\n",
    "y_pred = rf_reg.predict(X_test_confirmed)\n",
    "\n",
    "plt.plot(y_test_confirmed)\n",
    "plt.plot(y_pred)\n",
    "plt.legend(['Test Data', 'Random Forests Predictions'])\n",
    "\n",
    "mae=mean_absolute_error(y_pred, y_test_confirmed)\n",
    "mse=mean_squared_error(y_pred, y_test_confirmed)\n",
    "rmse = np.sqrt(mse)\n",
    "print(\"RMSE of \", rf_reg.__class__.__name__, round(rmse,2))\n",
    "print(\"MAE of \", rf_reg.__class__.__name__, round(mae,2), '\\n')"
   ]
  },
  {
   "cell_type": "markdown",
   "metadata": {
    "colab_type": "text",
    "id": "Ul97vVLCnzd7"
   },
   "source": [
    "### XGBoost Regressor"
   ]
  },
  {
   "cell_type": "code",
   "execution_count": null,
   "metadata": {
    "colab": {
     "base_uri": "https://localhost:8080/",
     "height": 173
    },
    "colab_type": "code",
    "id": "6cIC3vwznzd7",
    "outputId": "2c105647-1c21-432e-ad52-e5c5acc8ad9e"
   },
   "outputs": [],
   "source": [
    "xgb_reg=XGBRegressor(n_estimators=1000, learning_rate=0.05, n_jobs=4)\n",
    "xgb_reg.fit(X_train_confirmed, y_train_confirmed, early_stopping_rounds=10,\n",
    "            eval_set=[(X_test_confirmed, y_test_confirmed)],verbose=0)"
   ]
  },
  {
   "cell_type": "code",
   "execution_count": null,
   "metadata": {
    "colab": {
     "base_uri": "https://localhost:8080/",
     "height": 327
    },
    "colab_type": "code",
    "id": "4wcXqVT2nzd-",
    "outputId": "54b86a3b-132f-4dd7-f97b-d33af87649b6"
   },
   "outputs": [],
   "source": [
    "xgb_reg=XGBRegressor(base_score=0.5, booster='gbtree', colsample_bylevel=1,\n",
    "             colsample_bynode=1, colsample_bytree=1, gamma=0,\n",
    "             importance_type='gain', interaction_constraints='',\n",
    "             learning_rate=0.05, max_delta_step=0, max_depth=6,\n",
    "             min_child_weight=1,\n",
    "             n_estimators=1000, n_jobs=4, num_parallel_tree=1,\n",
    "             objective='reg:squarederror', random_state=0, reg_alpha=0,\n",
    "             reg_lambda=1, scale_pos_weight=1, subsample=1, tree_method='exact',\n",
    "             validate_parameters=1, verbosity=0)\n",
    "\n",
    "xgb_reg.fit(X_train_confirmed, y_train_confirmed)\n",
    "\n",
    "y_pred = xgb_reg.predict(X_test_confirmed)\n",
    "\n",
    "plt.plot(y_test_confirmed)\n",
    "plt.plot(y_pred)\n",
    "plt.legend(['Test Data', 'XGBoost Predictions'])\n",
    "\n",
    "mae=mean_absolute_error(y_pred, y_test_confirmed)\n",
    "mse=mean_squared_error(y_pred, y_test_confirmed)\n",
    "rmse = np.sqrt(mse)\n",
    "print(\"RMSE of \", xgb_reg.__class__.__name__, round(rmse,2))\n",
    "print(\"MAE of \", xgb_reg.__class__.__name__, round(mae,2), '\\n')"
   ]
  },
  {
   "cell_type": "markdown",
   "metadata": {
    "colab_type": "text",
    "id": "VNt_orx5nzeC"
   },
   "source": [
    "## Predicting the total number of confirmed cases of the world after addition of some new features"
   ]
  },
  {
   "cell_type": "code",
   "execution_count": null,
   "metadata": {
    "colab": {
     "base_uri": "https://localhost:8080/",
     "height": 238
    },
    "colab_type": "code",
    "id": "jDU5c2AXnzeD",
    "outputId": "fef3648b-a4ef-4688-e752-6c038e9c9ef9"
   },
   "outputs": [],
   "source": [
    "data = c_country_latest.copy()\n",
    "data.head()"
   ]
  },
  {
   "cell_type": "code",
   "execution_count": null,
   "metadata": {
    "colab": {
     "base_uri": "https://localhost:8080/",
     "height": 323
    },
    "colab_type": "code",
    "id": "1_8o4HFpnzeF",
    "outputId": "4439b73a-29e5-48c5-fe57-9500034da2f4"
   },
   "outputs": [],
   "source": [
    "data.info()"
   ]
  },
  {
   "cell_type": "code",
   "execution_count": null,
   "metadata": {
    "colab": {
     "base_uri": "https://localhost:8080/",
     "height": 351
    },
    "colab_type": "code",
    "id": "ZC34NGE_nzeG",
    "outputId": "afedc304-ee96-477b-e89d-19e9573ea8d3"
   },
   "outputs": [],
   "source": [
    "data.describe()"
   ]
  },
  {
   "cell_type": "code",
   "execution_count": null,
   "metadata": {
    "_cell_guid": "9c122298-471f-4f02-aa14-5d4218385f56",
    "_execution_state": "idle",
    "_uuid": "cc96273ceb750522bc1f48e76599bbe12f384e9d",
    "colab": {
     "base_uri": "https://localhost:8080/",
     "height": 392
    },
    "colab_type": "code",
    "id": "zAVfp_wDnzeI",
    "outputId": "2719cd03-4980-4044-aa19-ac79b9c59a97"
   },
   "outputs": [],
   "source": [
    "# Correlations\n",
    "\n",
    "sns.heatmap(data.corr(), annot = True)"
   ]
  },
  {
   "cell_type": "markdown",
   "metadata": {
    "colab_type": "text",
    "id": "WUqQoqiNnzeJ"
   },
   "source": [
    "### Add new features related to happiness in life to the dataframe"
   ]
  },
  {
   "cell_type": "code",
   "execution_count": null,
   "metadata": {
    "colab": {
     "base_uri": "https://localhost:8080/",
     "height": 221
    },
    "colab_type": "code",
    "id": "odzJWtn_nzeJ",
    "outputId": "4e0b6bbe-23e5-48b0-f3b5-329ba231cb7f"
   },
   "outputs": [],
   "source": [
    "data1=data.copy()\n",
    "\n",
    "happiness_df = pd.read_csv(\"happiness.csv\")\n",
    "happiness_df.head()"
   ]
  },
  {
   "cell_type": "code",
   "execution_count": null,
   "metadata": {
    "colab": {
     "base_uri": "https://localhost:8080/",
     "height": 289
    },
    "colab_type": "code",
    "id": "ZY5uxJulnzeK",
    "outputId": "413a2bfb-dad2-4011-dc26-cde0a66ffdab"
   },
   "outputs": [],
   "source": [
    "happiness_df.info()"
   ]
  },
  {
   "cell_type": "code",
   "execution_count": null,
   "metadata": {
    "colab": {
     "base_uri": "https://localhost:8080/",
     "height": 340
    },
    "colab_type": "code",
    "id": "O8sG2fSknzeM",
    "outputId": "515d44e0-62f3-4ed2-80f6-ae4eac37b05c"
   },
   "outputs": [],
   "source": [
    "happiness_df1 = happiness_df[['Country or region', 'Healthy life expectancy']]\n",
    "\n",
    "data1 = data1.merge(happiness_df1, left_on='Country/Region', right_on='Country or region').drop(['Country or region'],axis=1)\n",
    "data1.info()"
   ]
  },
  {
   "cell_type": "code",
   "execution_count": null,
   "metadata": {
    "colab": {
     "base_uri": "https://localhost:8080/",
     "height": 258
    },
    "colab_type": "code",
    "id": "g-gRqrhZnzeN",
    "outputId": "ff199d15-a5a9-4b0d-8888-8840eeb3f99f"
   },
   "outputs": [],
   "source": [
    "data1.head()"
   ]
  },
  {
   "cell_type": "code",
   "execution_count": null,
   "metadata": {
    "colab": {
     "base_uri": "https://localhost:8080/",
     "height": 542
    },
    "colab_type": "code",
    "id": "c_xy6JmBnzeR",
    "outputId": "728cb259-e789-45c8-f732-b7e64260dbd3"
   },
   "outputs": [],
   "source": [
    "px.scatter(data1, y='Mortality rate(per 100)', x='Healthy life expectancy', color='WHO region', hover_data=['Country/Region'])"
   ]
  },
  {
   "cell_type": "code",
   "execution_count": null,
   "metadata": {
    "colab": {
     "base_uri": "https://localhost:8080/",
     "height": 721
    },
    "colab_type": "code",
    "id": "eYTZvYWbnzeS",
    "outputId": "5eac1666-fb90-40dc-e448-3ebfbf925160"
   },
   "outputs": [],
   "source": [
    "# Correlations\n",
    "plt.figure(figsize= (15,10))\n",
    "sns.heatmap(data1.corr(), annot = True)"
   ]
  },
  {
   "cell_type": "markdown",
   "metadata": {
    "colab_type": "text",
    "id": "nroRa3w7nzeT"
   },
   "source": [
    "**Conclusion:**\n",
    "By the correlations above, it seems that the correlation between 'Healthy life expectancy' and 'Confirmed', 'Deaths', 'Recovered', 'Active','Recovery rate(per 100)'or 'Mortality rate(per 100)' is weak. So, such an addition may not help us in increasing the accuracy of predictions."
   ]
  },
  {
   "cell_type": "code",
   "execution_count": null,
   "metadata": {
    "colab": {},
    "colab_type": "code",
    "id": "uTy1LCldnzeT"
   },
   "outputs": [],
   "source": [
    "data1=data.copy()"
   ]
  },
  {
   "cell_type": "code",
   "execution_count": null,
   "metadata": {
    "colab": {
     "base_uri": "https://localhost:8080/",
     "height": 442
    },
    "colab_type": "code",
    "id": "g2X2DrAanzeW",
    "outputId": "d72be6b1-e41b-4b28-cc49-1d4a75a1119b"
   },
   "outputs": [],
   "source": [
    "happiness_df1 = happiness_df.drop(['Healthy life expectancy'],axis=1)\n",
    "\n",
    "data1 = data1.merge(happiness_df1, left_on='Country/Region', right_on='Country or region').drop(['Country or region'],axis=1)\n",
    "data1.info()"
   ]
  },
  {
   "cell_type": "code",
   "execution_count": null,
   "metadata": {
    "colab": {
     "base_uri": "https://localhost:8080/",
     "height": 275
    },
    "colab_type": "code",
    "id": "tul_ZayFnzeX",
    "outputId": "c0090166-21a8-4140-a4c3-a280184bd7d1"
   },
   "outputs": [],
   "source": [
    "data1.head()"
   ]
  },
  {
   "cell_type": "code",
   "execution_count": null,
   "metadata": {
    "colab": {
     "base_uri": "https://localhost:8080/",
     "height": 748
    },
    "colab_type": "code",
    "id": "1pV1VN30nzeY",
    "outputId": "200a42f5-a112-4ac6-fbd4-ba41c9063db7"
   },
   "outputs": [],
   "source": [
    "# Correlations\n",
    "plt.figure(figsize= (15,10))\n",
    "sns.heatmap(data1.corr(), annot = True)"
   ]
  },
  {
   "cell_type": "markdown",
   "metadata": {
    "colab_type": "text",
    "id": "CgnsTKC5nzea"
   },
   "source": [
    "**Conclusion:**\n",
    "Similar to the previous case, the correlation between each of the added features and 'Confirmed', 'Deaths', 'Recovered', 'Active','Recovery rate(per 100)'or 'Mortality rate(per 100)' seems to be weak. So, such additions may not help us in increasing the accuracy of predictions."
   ]
  },
  {
   "cell_type": "markdown",
   "metadata": {
    "colab_type": "text",
    "id": "KmJ5We4Jnzeb"
   },
   "source": [
    "### Add new features related to populations to the dataframe"
   ]
  },
  {
   "cell_type": "code",
   "execution_count": null,
   "metadata": {
    "colab": {
     "base_uri": "https://localhost:8080/",
     "height": 258
    },
    "colab_type": "code",
    "id": "bK9IZCAenzeb",
    "outputId": "ac2ef85e-472b-4957-9136-6ef28005d469"
   },
   "outputs": [],
   "source": [
    "data1=data.copy()\n",
    "\n",
    "population_df = pd.read_csv(\"population_by_country_2020.csv\")\n",
    "population_df.head()"
   ]
  },
  {
   "cell_type": "code",
   "execution_count": null,
   "metadata": {
    "colab": {
     "base_uri": "https://localhost:8080/",
     "height": 34
    },
    "colab_type": "code",
    "id": "4c3ZYm2Dnzed",
    "outputId": "9f38c4f4-5ee5-4f8f-de7b-37f2b85f1852"
   },
   "outputs": [],
   "source": [
    "population_df.shape"
   ]
  },
  {
   "cell_type": "code",
   "execution_count": null,
   "metadata": {
    "colab": {
     "base_uri": "https://localhost:8080/",
     "height": 340
    },
    "colab_type": "code",
    "id": "-rzDhgfSnzef",
    "outputId": "351ce2f4-1c7e-4388-921e-f551523423f8"
   },
   "outputs": [],
   "source": [
    "population_df1 = population_df[['Country (or dependency)', 'Population (2020)']]\n",
    "\n",
    "data1 = data1.merge(population_df1, left_on='Country/Region', right_on='Country (or dependency)').drop(['Country (or dependency)'],axis=1)\n",
    "data1.info()"
   ]
  },
  {
   "cell_type": "code",
   "execution_count": null,
   "metadata": {
    "colab": {
     "base_uri": "https://localhost:8080/",
     "height": 430
    },
    "colab_type": "code",
    "id": "NDZqtNM1nzeg",
    "outputId": "72f92b06-7264-4134-f9c5-c5ad66538965"
   },
   "outputs": [],
   "source": [
    "data1.head(10)"
   ]
  },
  {
   "cell_type": "code",
   "execution_count": null,
   "metadata": {
    "colab": {
     "base_uri": "https://localhost:8080/",
     "height": 542
    },
    "colab_type": "code",
    "id": "Gl-dPRsonzeh",
    "outputId": "4052b72a-95d8-4cba-ca55-6e4d9f9f6a43"
   },
   "outputs": [],
   "source": [
    "# remove countries with very high populations for beter visualization\n",
    "\n",
    "data2 = data1[data1['Country/Region'].str.contains('China')!=True]\n",
    "data2 = data2[data2['Country/Region'].str.contains('India')!=True]\n",
    "\n",
    "px.scatter(data2, y='Mortality rate(per 100)', x='Population (2020)', color='WHO region', hover_data=['Country/Region'])"
   ]
  },
  {
   "cell_type": "code",
   "execution_count": null,
   "metadata": {
    "colab": {
     "base_uri": "https://localhost:8080/",
     "height": 718
    },
    "colab_type": "code",
    "id": "tkqhrKMlnzem",
    "outputId": "2642a7ba-a298-4f1c-d655-68a4e13a087b"
   },
   "outputs": [],
   "source": [
    "# Correlations\n",
    "plt.figure(figsize= (15,10))\n",
    "sns.heatmap(data1.corr(), annot = True)"
   ]
  }
 ],
 "metadata": {
  "colab": {
   "collapsed_sections": [],
   "name": "2_project_model_and_predict.ipynb",
   "provenance": [],
   "toc_visible": true
  },
  "kernelspec": {
   "display_name": "Python 3 (ipykernel)",
   "language": "python",
   "name": "python3"
  },
  "language_info": {
   "codemirror_mode": {
    "name": "ipython",
    "version": 3
   },
   "file_extension": ".py",
   "mimetype": "text/x-python",
   "name": "python",
   "nbconvert_exporter": "python",
   "pygments_lexer": "ipython3",
   "version": "3.10.0"
  }
 },
 "nbformat": 4,
 "nbformat_minor": 4
}
